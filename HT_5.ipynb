{
 "cells": [
  {
   "cell_type": "markdown",
   "id": "a38d16eb",
   "metadata": {},
   "source": [
    "## Home task 5"
   ]
  },
  {
   "cell_type": "markdown",
   "id": "f2a4cc02",
   "metadata": {},
   "source": [
    "1. Когда используется критерий Стьюдента, а когда Z –критерий?  \n",
    "Задачи 2,3 решать вручную\n",
    "2. Проведите тест гипотезы. Утверждается, что шарики для подшипников, изготовленные автоматическим станком, имеют средний диаметр 17 мм. Используя односторонний критерий с α=0,05, проверить эту гипотезу, если в выборке из n=100 шариков средний диаметр оказался равным 17.5 мм, а дисперсия известна и равна 4 кв. мм. \n",
    "3.Проведите тест гипотезы. Продавец утверждает, что средний вес пачки печенья составляет 200 г. Из партии извлечена выборка из 10 пачек. Вес каждой пачки составляет: 202, 203, 199, 197, 195, 201, 200, 204, 194, 190. Известно, что их веса распределены нормально. Верно ли утверждение продавца, если учитывать, что доверительная вероятность равна 99%? (Провести двусторонний тест.  \n",
    "Задачу 4 решать с помощью функции.  \n",
    "4.Есть ли статистически значимые различия в росте дочерей? Рост матерей 172, 177, 158, 170, 178,175, 164, 160, 169, 165 Рост взрослых дочерей: 173, 175, 162, 174, 175, 168, 155, 170, 160"
   ]
  },
  {
   "cell_type": "code",
   "execution_count": 86,
   "id": "7ca96db1",
   "metadata": {},
   "outputs": [],
   "source": [
    "import numpy as np"
   ]
  },
  {
   "cell_type": "code",
   "execution_count": 87,
   "id": "ec93ea53",
   "metadata": {},
   "outputs": [],
   "source": [
    "import pandas as pd"
   ]
  },
  {
   "cell_type": "code",
   "execution_count": 88,
   "id": "7cb2926f",
   "metadata": {},
   "outputs": [],
   "source": [
    "from statistics import NormalDist as nd"
   ]
  },
  {
   "cell_type": "code",
   "execution_count": 89,
   "id": "f1dfff7b",
   "metadata": {},
   "outputs": [],
   "source": [
    "import scipy.stats as stats"
   ]
  },
  {
   "cell_type": "markdown",
   "id": "b0fe6870",
   "metadata": {},
   "source": [
    "### Задание 1"
   ]
  },
  {
   "cell_type": "markdown",
   "id": "e4719dbf",
   "metadata": {},
   "source": [
    "Когда используется критерий Стьюдента, а когда Z –критерий?"
   ]
  },
  {
   "cell_type": "markdown",
   "id": "18601ad3",
   "metadata": {},
   "source": [
    "Если можно использовать параметрический тест (генеральная совокупность распределена нормально):  \n",
    "    если известна дисперсия ГС - используется Z-критерий;  \n",
    "    если дисперсия ГС неизвестна - использцется t-критерий."
   ]
  },
  {
   "cell_type": "markdown",
   "id": "d1a2da5e",
   "metadata": {},
   "source": [
    "### Задание 2"
   ]
  },
  {
   "cell_type": "markdown",
   "id": "4ea85c70",
   "metadata": {},
   "source": [
    "Проведите тест гипотезы. Утверждается, что шарики для подшипников, изготовленные автоматическим станком, имеют средний диаметр 17 мм. Используя односторонний критерий с α=0,05, проверить эту гипотезу, если в выборке из n=100 шариков средний диаметр оказался равным 17.5 мм, а дисперсия известна и равна 4 кв. мм."
   ]
  },
  {
   "cell_type": "code",
   "execution_count": 90,
   "id": "ced4424c",
   "metadata": {},
   "outputs": [],
   "source": [
    "mu = 17"
   ]
  },
  {
   "cell_type": "code",
   "execution_count": 91,
   "id": "d4098acf",
   "metadata": {},
   "outputs": [],
   "source": [
    "n = 100\n",
    "x = 17.5\n",
    "d = 4"
   ]
  },
  {
   "cell_type": "code",
   "execution_count": 92,
   "id": "ac2e810d",
   "metadata": {},
   "outputs": [],
   "source": [
    "a = 0.05"
   ]
  },
  {
   "cell_type": "markdown",
   "id": "e7035230",
   "metadata": {},
   "source": [
    "H0: x = mu  \n",
    "H1: x > mu"
   ]
  },
  {
   "cell_type": "code",
   "execution_count": 93,
   "id": "9c1c22c4",
   "metadata": {},
   "outputs": [],
   "source": [
    "z = (x - mu) / ((d/n)**0.5)"
   ]
  },
  {
   "cell_type": "code",
   "execution_count": 94,
   "id": "39f1f348",
   "metadata": {},
   "outputs": [
    {
     "data": {
      "text/plain": [
       "2.5"
      ]
     },
     "execution_count": 94,
     "metadata": {},
     "output_type": "execute_result"
    }
   ],
   "source": [
    "z"
   ]
  },
  {
   "cell_type": "code",
   "execution_count": 95,
   "id": "102d3d36",
   "metadata": {},
   "outputs": [],
   "source": [
    "z_a = nd().inv_cdf(0.95)"
   ]
  },
  {
   "cell_type": "code",
   "execution_count": 96,
   "id": "78385687",
   "metadata": {},
   "outputs": [
    {
     "data": {
      "text/plain": [
       "1.6448536269514715"
      ]
     },
     "execution_count": 96,
     "metadata": {},
     "output_type": "execute_result"
    }
   ],
   "source": [
    "z_a"
   ]
  },
  {
   "cell_type": "markdown",
   "id": "791fcd29",
   "metadata": {},
   "source": [
    "Расчетное значние критерия (2.5) > табличного значения (1,64) => принимается альтернативная гипотеза H1 (средний размер шариков не равен 17)"
   ]
  },
  {
   "cell_type": "markdown",
   "id": "e8f5920b",
   "metadata": {},
   "source": [
    "### Задание 3"
   ]
  },
  {
   "cell_type": "markdown",
   "id": "f7285873",
   "metadata": {},
   "source": [
    "Проведите тест гипотезы. Продавец утверждает, что средний вес пачки печенья составляет 200 г. Из партии извлечена выборка из 10 пачек. Вес каждой пачки составляет: 202, 203, 199, 197, 195, 201, 200, 204, 194, 190. Известно, что их веса распределены нормально. Верно ли утверждение продавца, если учитывать, что доверительная вероятность равна 99%? (Провести двусторонний тест)"
   ]
  },
  {
   "cell_type": "code",
   "execution_count": 97,
   "id": "420cff8e",
   "metadata": {},
   "outputs": [],
   "source": [
    "A = pd.DataFrame([202, 203, 199, 197, 195, 201, 200, 204, 194, 190])"
   ]
  },
  {
   "cell_type": "code",
   "execution_count": 98,
   "id": "c43693eb",
   "metadata": {},
   "outputs": [],
   "source": [
    "mu = 200"
   ]
  },
  {
   "cell_type": "code",
   "execution_count": 99,
   "id": "26f17024",
   "metadata": {},
   "outputs": [],
   "source": [
    "a = 0.01\n",
    "n = 10"
   ]
  },
  {
   "cell_type": "markdown",
   "id": "185fa017",
   "metadata": {},
   "source": [
    "H0: x = mu  \n",
    "H1: x <> mu"
   ]
  },
  {
   "cell_type": "code",
   "execution_count": 100,
   "id": "e1019118",
   "metadata": {},
   "outputs": [],
   "source": [
    "x = A.mean()"
   ]
  },
  {
   "cell_type": "code",
   "execution_count": 101,
   "id": "628d753d",
   "metadata": {},
   "outputs": [
    {
     "data": {
      "text/plain": [
       "0    198.5\n",
       "dtype: float64"
      ]
     },
     "execution_count": 101,
     "metadata": {},
     "output_type": "execute_result"
    }
   ],
   "source": [
    "x"
   ]
  },
  {
   "cell_type": "code",
   "execution_count": 102,
   "id": "9252c86d",
   "metadata": {},
   "outputs": [],
   "source": [
    "s = (((A - x) ** 2).sum() / (n-1)) ** 0.5"
   ]
  },
  {
   "cell_type": "code",
   "execution_count": 103,
   "id": "13da9e30",
   "metadata": {},
   "outputs": [
    {
     "data": {
      "text/plain": [
       "0    4.453463\n",
       "dtype: float64"
      ]
     },
     "execution_count": 103,
     "metadata": {},
     "output_type": "execute_result"
    }
   ],
   "source": [
    "s"
   ]
  },
  {
   "cell_type": "code",
   "execution_count": 104,
   "id": "e7fa0ae8",
   "metadata": {},
   "outputs": [],
   "source": [
    "t = (x - mu) / (s/(n**0.5))"
   ]
  },
  {
   "cell_type": "code",
   "execution_count": 105,
   "id": "5ce18a68",
   "metadata": {},
   "outputs": [
    {
     "data": {
      "text/plain": [
       "0   -1.065107\n",
       "dtype: float64"
      ]
     },
     "execution_count": 105,
     "metadata": {},
     "output_type": "execute_result"
    }
   ],
   "source": [
    "t"
   ]
  },
  {
   "cell_type": "code",
   "execution_count": 106,
   "id": "1f193d50",
   "metadata": {},
   "outputs": [],
   "source": [
    "t_a = -3.25"
   ]
  },
  {
   "cell_type": "markdown",
   "id": "8e64856b",
   "metadata": {},
   "source": [
    "Расчетное значние критерия (-1.065) лежит правее табличного значения (-3.25) => гипотеза H0 не отвергается (средний вес пачки печенья составляет 200 г.)"
   ]
  },
  {
   "cell_type": "markdown",
   "id": "6ea7bcec",
   "metadata": {},
   "source": [
    "### Задание 4"
   ]
  },
  {
   "cell_type": "markdown",
   "id": "6535de50",
   "metadata": {},
   "source": [
    "Есть ли статистически значимые различия в росте дочерей? Рост матерей 172, 177, 158, 170, 178,175, 164, 160, 169, 165 Рост взрослых дочерей: 173, 175, 162, 174, 175, 168, 155, 170, 160"
   ]
  },
  {
   "cell_type": "code",
   "execution_count": 107,
   "id": "10a41f70",
   "metadata": {},
   "outputs": [],
   "source": [
    "A = pd.DataFrame([172, 177, 158, 170, 178,175, 164, 160, 169, 165])"
   ]
  },
  {
   "cell_type": "code",
   "execution_count": 108,
   "id": "5072c500",
   "metadata": {},
   "outputs": [],
   "source": [
    "B = pd.DataFrame([173, 175, 162, 174, 175, 168, 155, 170, 160])"
   ]
  },
  {
   "cell_type": "markdown",
   "id": "502d6bab",
   "metadata": {},
   "source": [
    "H0: mu_A = mu_B  \n",
    "H1: mu_A <> mu_B  "
   ]
  },
  {
   "cell_type": "code",
   "execution_count": 109,
   "id": "4dfdc57b",
   "metadata": {},
   "outputs": [],
   "source": [
    "a = 0.05"
   ]
  },
  {
   "cell_type": "code",
   "execution_count": 110,
   "id": "7dba83f0",
   "metadata": {},
   "outputs": [
    {
     "data": {
      "text/plain": [
       "Ttest_indResult(statistic=array([0.24400587]), pvalue=array([0.81014671]))"
      ]
     },
     "execution_count": 110,
     "metadata": {},
     "output_type": "execute_result"
    }
   ],
   "source": [
    "stats.ttest_ind(A, B, equal_var=True)"
   ]
  },
  {
   "cell_type": "markdown",
   "id": "aa0308d3",
   "metadata": {},
   "source": [
    "Полученное p-value > a (0.81>0.05)     => H0 не отвергается (статистически значимые различия в росте дочерей отсутствуют)"
   ]
  },
  {
   "cell_type": "code",
   "execution_count": null,
   "id": "fbb7f2f4",
   "metadata": {},
   "outputs": [],
   "source": []
  }
 ],
 "metadata": {
  "kernelspec": {
   "display_name": "Python 3 (ipykernel)",
   "language": "python",
   "name": "python3"
  },
  "language_info": {
   "codemirror_mode": {
    "name": "ipython",
    "version": 3
   },
   "file_extension": ".py",
   "mimetype": "text/x-python",
   "name": "python",
   "nbconvert_exporter": "python",
   "pygments_lexer": "ipython3",
   "version": "3.9.12"
  }
 },
 "nbformat": 4,
 "nbformat_minor": 5
}
