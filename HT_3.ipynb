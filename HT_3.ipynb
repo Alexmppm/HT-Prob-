{
 "cells": [
  {
   "cell_type": "markdown",
   "id": "5392c668",
   "metadata": {},
   "source": [
    "## Home task 3"
   ]
  },
  {
   "cell_type": "markdown",
   "id": "cdd80cf6",
   "metadata": {},
   "source": [
    "1.\tДаны значения зарплат из выборки выпускников: 100, 80, 75, 77, 89, 33, 45, 25, 65, 17, 30, 24, 57, 55, 70, 75, 65, 84, 90, 150. Посчитать (желательно без использования статистических методов наподобие std, var, mean) среднее арифметическое, среднее квадратичное отклонение, смещенную и несмещенную оценки дисперсий для данной выборки.\n",
    "2.\tВ первом ящике находится 8 мячей, из которых 5 - белые. Во втором ящике - 12 мячей, из которых 5 белых. Из первого ящика вытаскивают случайным образом два мяча, из второго - 4. Какова вероятность того, что 3 мяча белые?\n",
    "3. На соревновании по биатлону один из трех спортсменов стреляет и попадает в мишень. Вероятность попадания для первого спортсмена равна 0.9, для второго — 0.8, для третьего — 0.6. Найти вероятность того, что выстрел произведен: a). первым спортсменом б). вторым спортсменом в). третьим спортсменом.\n",
    "4.\tВ университет на факультеты A и B поступило равное количество студентов, а на факультет C студентов поступило столько же, сколько на A и B вместе. Вероятность того, что студент факультета A сдаст первую сессию, равна 0.8. Для студента факультета B эта вероятность равна 0.7, а для студента факультета C - 0.9. Студент сдал первую сессию. Какова вероятность, что он учится: a). на факультете A б). на факультете B в). на факультете C?  \n",
    "5.\tУстройство состоит из трех деталей. Для первой детали вероятность выйти из строя в первый месяц равна 0.1, для второй - 0.2, для третьей - 0.25. Какова вероятность того, что в первый месяц выйдут из строя: а). все детали б). только две детали в). хотя бы одна деталь г). от одной до двух деталей?"
   ]
  },
  {
   "cell_type": "code",
   "execution_count": 22,
   "id": "6f87b8a1",
   "metadata": {},
   "outputs": [],
   "source": [
    "import numpy as np\n",
    "import pandas as pd\n",
    "from math import factorial\n",
    "from math import e"
   ]
  },
  {
   "cell_type": "markdown",
   "id": "fa7652c2",
   "metadata": {},
   "source": [
    "#### Функции для выполнения ДЗ"
   ]
  },
  {
   "cell_type": "code",
   "execution_count": 23,
   "id": "424e0a29",
   "metadata": {},
   "outputs": [],
   "source": [
    "def combinations(n, k):    \n",
    "    'Сочетания (Сnk) из n по k'\n",
    "    return int(factorial(n) / (factorial(k) * factorial(n - k)))"
   ]
  },
  {
   "cell_type": "markdown",
   "id": "42135a46",
   "metadata": {},
   "source": [
    "### Задание 1"
   ]
  },
  {
   "cell_type": "markdown",
   "id": "e8deadea",
   "metadata": {},
   "source": [
    "1.\tДаны значения зарплат из выборки выпускников: 100, 80, 75, 77, 89, 33, 45, 25, 65, 17, 30, 24, 57, 55, 70, 75, 65, 84, 90, 150. Посчитать (желательно без использования статистических методов наподобие std, var, mean) среднее арифметическое, среднее квадратичное отклонение, смещенную и несмещенную оценки дисперсий для данной выборки."
   ]
  },
  {
   "cell_type": "code",
   "execution_count": 24,
   "id": "5cc59be6",
   "metadata": {},
   "outputs": [],
   "source": [
    "s = pd.DataFrame([100, 80, 75, 77, 89, 33, 45, 25, 65, 17, 30, 24, 57, 55, 70, 75, 65, 84, 90, 150])"
   ]
  },
  {
   "cell_type": "code",
   "execution_count": 25,
   "id": "bf91f9ff",
   "metadata": {},
   "outputs": [
    {
     "data": {
      "text/plain": [
       "0    65.3\n",
       "dtype: float64"
      ]
     },
     "execution_count": 25,
     "metadata": {},
     "output_type": "execute_result"
    }
   ],
   "source": [
    "s_mean = s.sum() / len(s)\n",
    "s_mean"
   ]
  },
  {
   "cell_type": "code",
   "execution_count": 26,
   "id": "fdcfa695",
   "metadata": {},
   "outputs": [
    {
     "data": {
      "text/plain": [
       "0    65.3\n",
       "dtype: float64"
      ]
     },
     "execution_count": 26,
     "metadata": {},
     "output_type": "execute_result"
    }
   ],
   "source": [
    "s.mean()"
   ]
  },
  {
   "cell_type": "code",
   "execution_count": 27,
   "id": "c156cc5c",
   "metadata": {},
   "outputs": [
    {
     "data": {
      "text/plain": [
       "0    30.823854\n",
       "dtype: float64"
      ]
     },
     "execution_count": 27,
     "metadata": {},
     "output_type": "execute_result"
    }
   ],
   "source": [
    "s_std = (((s - s_mean) ** 2).sum() / len(s)) ** 0.5\n",
    "\n",
    "s_std"
   ]
  },
  {
   "cell_type": "code",
   "execution_count": 28,
   "id": "b08a1db7",
   "metadata": {},
   "outputs": [
    {
     "data": {
      "text/plain": [
       "0    30.823854\n",
       "dtype: float64"
      ]
     },
     "execution_count": 28,
     "metadata": {},
     "output_type": "execute_result"
    }
   ],
   "source": [
    "s.std(ddof=0)"
   ]
  },
  {
   "cell_type": "code",
   "execution_count": 29,
   "id": "929cbc43",
   "metadata": {},
   "outputs": [
    {
     "data": {
      "text/plain": [
       "0    950.11\n",
       "dtype: float64"
      ]
     },
     "execution_count": 29,
     "metadata": {},
     "output_type": "execute_result"
    }
   ],
   "source": [
    "s_variance = s_std ** 2\n",
    "s_variance"
   ]
  },
  {
   "cell_type": "code",
   "execution_count": 30,
   "id": "d953d1b3",
   "metadata": {},
   "outputs": [
    {
     "data": {
      "text/plain": [
       "0    950.11\n",
       "dtype: float64"
      ]
     },
     "execution_count": 30,
     "metadata": {},
     "output_type": "execute_result"
    }
   ],
   "source": [
    "s.var(ddof=0)"
   ]
  },
  {
   "cell_type": "code",
   "execution_count": 31,
   "id": "ff567842",
   "metadata": {},
   "outputs": [
    {
     "data": {
      "text/plain": [
       "0    1000.115789\n",
       "dtype: float64"
      ]
     },
     "execution_count": 31,
     "metadata": {},
     "output_type": "execute_result"
    }
   ],
   "source": [
    "s_variance2 = ((((s - s_mean) ** 2).sum() / (len(s)-1)) ** 0.5 ) ** 2\n",
    "s_variance2"
   ]
  },
  {
   "cell_type": "code",
   "execution_count": 32,
   "id": "6f373dfc",
   "metadata": {},
   "outputs": [
    {
     "data": {
      "text/plain": [
       "0    1000.115789\n",
       "dtype: float64"
      ]
     },
     "execution_count": 32,
     "metadata": {},
     "output_type": "execute_result"
    }
   ],
   "source": [
    "s.var(ddof=1)"
   ]
  },
  {
   "cell_type": "markdown",
   "id": "a1a5690f",
   "metadata": {},
   "source": [
    "### Задание 2"
   ]
  },
  {
   "cell_type": "markdown",
   "id": "e63bd3df",
   "metadata": {},
   "source": [
    "2.\tВ первом ящике находится 8 мячей, из которых 5 - белые. Во втором ящике - 12 мячей, из которых 5 белых. Из первого ящика вытаскивают случайным образом два мяча, из второго - 4. Какова вероятность того, что 3 мяча белые?"
   ]
  },
  {
   "cell_type": "markdown",
   "id": "64c6dd30",
   "metadata": {},
   "source": [
    "Ровно 3 белых мяча могут быть получены тремя разными способами: 2 + 1, 1 + 2, 0 + 3. Эти события несовместны, поэтому вероятности можно складывать"
   ]
  },
  {
   "cell_type": "code",
   "execution_count": 33,
   "id": "84cfab1f",
   "metadata": {},
   "outputs": [],
   "source": [
    "p1 = (combinations(5, 2) / combinations(8, 2)) * (combinations(5, 1) * (combinations(7, 3)/ combinations(12, 4)))"
   ]
  },
  {
   "cell_type": "code",
   "execution_count": 34,
   "id": "ed5fe97f",
   "metadata": {},
   "outputs": [],
   "source": [
    "p2 = ((combinations(5, 1) * (combinations(3, 1))/ combinations(8, 2))) *\\\n",
    "    ((combinations(5, 2) * (combinations(7, 2))/ combinations(12, 4)))"
   ]
  },
  {
   "cell_type": "code",
   "execution_count": 35,
   "id": "87932922",
   "metadata": {},
   "outputs": [],
   "source": [
    "p3 = (combinations(3, 2) / combinations(8, 2)) * (combinations(5, 3) * (combinations(7, 1)/ combinations(12, 4)))"
   ]
  },
  {
   "cell_type": "code",
   "execution_count": 36,
   "id": "40a8e42d",
   "metadata": {},
   "outputs": [
    {
     "data": {
      "text/plain": [
       "0.36869"
      ]
     },
     "execution_count": 36,
     "metadata": {},
     "output_type": "execute_result"
    }
   ],
   "source": [
    "p = p1 + p2 + p3\n",
    "round(p, 5)"
   ]
  },
  {
   "cell_type": "markdown",
   "id": "54b37378",
   "metadata": {},
   "source": [
    "### Задание 3"
   ]
  },
  {
   "cell_type": "markdown",
   "id": "762f5262",
   "metadata": {},
   "source": [
    "На соревновании по биатлону один из трех спортсменов стреляет и попадает в мишень. Вероятность попадания для первого спортсмена равна 0.9, для второго — 0.8, для третьего — 0.6. Найти вероятность того, что выстрел произведен: a). первым спортсменом б). вторым спортсменом в). третьим спортсменом."
   ]
  },
  {
   "cell_type": "markdown",
   "id": "8d3415b6",
   "metadata": {},
   "source": [
    "Решение: воспользуемся формулой Байеса"
   ]
  },
  {
   "cell_type": "code",
   "execution_count": 37,
   "id": "8bd7a764",
   "metadata": {},
   "outputs": [],
   "source": [
    "p_a_b1 = 0.9\n",
    "p_a_b2 = 0.8\n",
    "p_a_b3 = 0.6"
   ]
  },
  {
   "cell_type": "code",
   "execution_count": 38,
   "id": "e3f16cc8",
   "metadata": {},
   "outputs": [],
   "source": [
    "p_a = (p_a_b1 + p_a_b2 + p_a_b3) / 3"
   ]
  },
  {
   "cell_type": "code",
   "execution_count": 39,
   "id": "afb2c3fa",
   "metadata": {},
   "outputs": [
    {
     "data": {
      "text/plain": [
       "0.7666666666666667"
      ]
     },
     "execution_count": 39,
     "metadata": {},
     "output_type": "execute_result"
    }
   ],
   "source": [
    "p_a"
   ]
  },
  {
   "cell_type": "markdown",
   "id": "ad6361f9",
   "metadata": {},
   "source": [
    "a) P(B1|A) ="
   ]
  },
  {
   "cell_type": "code",
   "execution_count": 40,
   "id": "9e0cceb9",
   "metadata": {},
   "outputs": [
    {
     "data": {
      "text/plain": [
       "0.3913043478260869"
      ]
     },
     "execution_count": 40,
     "metadata": {},
     "output_type": "execute_result"
    }
   ],
   "source": [
    "(1/3) * p_a_b1 / p_a"
   ]
  },
  {
   "cell_type": "markdown",
   "id": "f58084cd",
   "metadata": {},
   "source": [
    "б) P(B2|A) = "
   ]
  },
  {
   "cell_type": "code",
   "execution_count": 41,
   "id": "1cde7151",
   "metadata": {},
   "outputs": [
    {
     "data": {
      "text/plain": [
       "0.34782608695652173"
      ]
     },
     "execution_count": 41,
     "metadata": {},
     "output_type": "execute_result"
    }
   ],
   "source": [
    "(1/3) * p_a_b2 / p_a"
   ]
  },
  {
   "cell_type": "markdown",
   "id": "fe20f975",
   "metadata": {},
   "source": [
    "в) P(B3|A) ="
   ]
  },
  {
   "cell_type": "code",
   "execution_count": 42,
   "id": "5852fc54",
   "metadata": {},
   "outputs": [
    {
     "data": {
      "text/plain": [
       "0.26086956521739124"
      ]
     },
     "execution_count": 42,
     "metadata": {},
     "output_type": "execute_result"
    }
   ],
   "source": [
    "(1/3) * p_a_b3 / p_a"
   ]
  },
  {
   "cell_type": "markdown",
   "id": "452f4a92",
   "metadata": {},
   "source": [
    "### Задание 4"
   ]
  },
  {
   "cell_type": "markdown",
   "id": "924a14bd",
   "metadata": {},
   "source": [
    "В университет на факультеты A и B поступило равное количество студентов, а на факультет C студентов поступило столько же, сколько на A и B вместе. Вероятность того, что студент факультета A сдаст первую сессию, равна 0.8. Для студента факультета B эта вероятность равна 0.7, а для студента факультета C - 0.9. Студент сдал первую сессию. Какова вероятность, что он учится: a). на факультете A б). на факультете B в). на факультете C?"
   ]
  },
  {
   "cell_type": "markdown",
   "id": "0500e995",
   "metadata": {},
   "source": [
    "Решение: воспользуемся формулой Байеса.  \n",
    "Событие А - сдача сессии;\n",
    "Событие Ba, Bb, Bc - что он учится на соответствующем факультете."
   ]
  },
  {
   "cell_type": "code",
   "execution_count": 43,
   "id": "f6cee4a7",
   "metadata": {},
   "outputs": [],
   "source": [
    "p_ba = 0.25\n",
    "p_bb = 0.25\n",
    "p_bc = 0.5"
   ]
  },
  {
   "cell_type": "code",
   "execution_count": 44,
   "id": "dcc31fbd",
   "metadata": {},
   "outputs": [],
   "source": [
    "p_a_ba = 0.8\n",
    "p_a_bb = 0.7\n",
    "p_a_bc = 0.9"
   ]
  },
  {
   "cell_type": "markdown",
   "id": "c6fd5706",
   "metadata": {},
   "source": [
    "Радем полную вероятность P(A)"
   ]
  },
  {
   "cell_type": "code",
   "execution_count": 45,
   "id": "3f88c8a0",
   "metadata": {},
   "outputs": [],
   "source": [
    "p_a = p_ba * p_a_ba + p_bb * p_a_bb + p_bc * p_a_bc"
   ]
  },
  {
   "cell_type": "code",
   "execution_count": 46,
   "id": "94a2aa28",
   "metadata": {},
   "outputs": [
    {
     "data": {
      "text/plain": [
       "0.825"
      ]
     },
     "execution_count": 46,
     "metadata": {},
     "output_type": "execute_result"
    }
   ],
   "source": [
    "p_a"
   ]
  },
  {
   "cell_type": "markdown",
   "id": "39c49510",
   "metadata": {},
   "source": [
    "P(Ba|A) = "
   ]
  },
  {
   "cell_type": "code",
   "execution_count": 47,
   "id": "aa86ec21",
   "metadata": {},
   "outputs": [
    {
     "data": {
      "text/plain": [
       "0.24242424242424246"
      ]
     },
     "execution_count": 47,
     "metadata": {},
     "output_type": "execute_result"
    }
   ],
   "source": [
    "p1 = p_ba * p_a_ba / p_a\n",
    "p1"
   ]
  },
  {
   "cell_type": "markdown",
   "id": "4723d77c",
   "metadata": {},
   "source": [
    "P(Bb|A) = "
   ]
  },
  {
   "cell_type": "code",
   "execution_count": 48,
   "id": "ad99f98d",
   "metadata": {},
   "outputs": [
    {
     "data": {
      "text/plain": [
       "0.21212121212121213"
      ]
     },
     "execution_count": 48,
     "metadata": {},
     "output_type": "execute_result"
    }
   ],
   "source": [
    "p2 = p_bb * p_a_bb / p_a\n",
    "p2"
   ]
  },
  {
   "cell_type": "markdown",
   "id": "1732f923",
   "metadata": {},
   "source": [
    "P(Bc|A) = "
   ]
  },
  {
   "cell_type": "code",
   "execution_count": 49,
   "id": "28df354d",
   "metadata": {},
   "outputs": [
    {
     "data": {
      "text/plain": [
       "0.5454545454545455"
      ]
     },
     "execution_count": 49,
     "metadata": {},
     "output_type": "execute_result"
    }
   ],
   "source": [
    "p3 = p_bc * p_a_bc / p_a\n",
    "p3"
   ]
  },
  {
   "cell_type": "code",
   "execution_count": 50,
   "id": "52b7c71f",
   "metadata": {},
   "outputs": [
    {
     "data": {
      "text/plain": [
       "1.0"
      ]
     },
     "execution_count": 50,
     "metadata": {},
     "output_type": "execute_result"
    }
   ],
   "source": [
    "p1 + p2 + p3"
   ]
  },
  {
   "cell_type": "markdown",
   "id": "d28ceea1",
   "metadata": {},
   "source": [
    "##### Задание 5"
   ]
  },
  {
   "cell_type": "markdown",
   "id": "56e649f8",
   "metadata": {},
   "source": [
    "Устройство состоит из трех деталей. Для первой детали вероятность выйти из строя в первый месяц равна 0.1, для второй - 0.2, для третьей - 0.25. Какова вероятность того, что в первый месяц выйдут из строя: а). все детали б). только две детали в). хотя бы одна деталь г). от одной до двух деталей?"
   ]
  },
  {
   "cell_type": "markdown",
   "id": "14880d15",
   "metadata": {},
   "source": [
    "a)"
   ]
  },
  {
   "cell_type": "code",
   "execution_count": 51,
   "id": "0286066b",
   "metadata": {},
   "outputs": [
    {
     "data": {
      "text/plain": [
       "0.005"
      ]
     },
     "execution_count": 51,
     "metadata": {},
     "output_type": "execute_result"
    }
   ],
   "source": [
    "pa = 0.1 * 0.2 * 0.25\n",
    "round(pa, 5)"
   ]
  },
  {
   "cell_type": "markdown",
   "id": "25da787c",
   "metadata": {},
   "source": [
    "б)"
   ]
  },
  {
   "cell_type": "code",
   "execution_count": 52,
   "id": "3ba45427",
   "metadata": {},
   "outputs": [
    {
     "data": {
      "text/plain": [
       "0.08"
      ]
     },
     "execution_count": 52,
     "metadata": {},
     "output_type": "execute_result"
    }
   ],
   "source": [
    "pb = (0.1 * 0.2 * 0.75 +\n",
    "      0.1 * 0.8 * 0.25 +\n",
    "      0.9 * 0.2 * 0.25\n",
    "     )\n",
    "round(pb, 5)"
   ]
  },
  {
   "cell_type": "code",
   "execution_count": 53,
   "id": "88c3ea84",
   "metadata": {},
   "outputs": [
    {
     "data": {
      "text/plain": [
       "0.46"
      ]
     },
     "execution_count": 53,
     "metadata": {},
     "output_type": "execute_result"
    }
   ],
   "source": [
    "pv = 1 - (0.9 * 0.8 * 0.75)\n",
    "round(pv, 5)"
   ]
  },
  {
   "cell_type": "code",
   "execution_count": 54,
   "id": "caa00cf9",
   "metadata": {},
   "outputs": [
    {
     "data": {
      "text/plain": [
       "0.455"
      ]
     },
     "execution_count": 54,
     "metadata": {},
     "output_type": "execute_result"
    }
   ],
   "source": [
    "pc = (0.1 * 0.8 * 0.75 +\n",
    "      0.9 * 0.2 * 0.75 +\n",
    "      0.9 * 0.8 * 0.25\n",
    "     )\n",
    "pc + pb"
   ]
  }
 ],
 "metadata": {
  "kernelspec": {
   "display_name": "Python 3 (ipykernel)",
   "language": "python",
   "name": "python3"
  },
  "language_info": {
   "codemirror_mode": {
    "name": "ipython",
    "version": 3
   },
   "file_extension": ".py",
   "mimetype": "text/x-python",
   "name": "python",
   "nbconvert_exporter": "python",
   "pygments_lexer": "ipython3",
   "version": "3.9.12"
  }
 },
 "nbformat": 4,
 "nbformat_minor": 5
}
