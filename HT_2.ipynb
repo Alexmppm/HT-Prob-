{
 "cells": [
  {
   "cell_type": "markdown",
   "id": "5392c668",
   "metadata": {},
   "source": [
    "## Home task 2"
   ]
  },
  {
   "cell_type": "markdown",
   "id": "cdd80cf6",
   "metadata": {},
   "source": [
    "1.\tВероятность того, что стрелок попадет в мишень, выстрелив один раз, равна 0.8. Стрелок выстрелил 100 раз. Найдите вероятность того, что стрелок попадет в цель ровно 85 раз.\n",
    "2.\tВероятность того, что лампочка перегорит в течение первого дня эксплуатации, равна 0.0004. В жилом комплексе после ремонта в один день включили 5000 новых лампочек. Какова вероятность, что ни одна из них не перегорит в первый день? Какова вероятность, что перегорят ровно две?\n",
    "3.\tМонету подбросили 144 раза. Какова вероятность, что орел выпадет ровно 70 раз?\n",
    "4.\tВ первом ящике находится 10 мячей, из которых 7 - белые. Во втором ящике - 11 мячей, из которых 9 белых. Из каждого ящика вытаскивают случайным образом по два мяча. Какова вероятность того, что все мячи белые? Какова вероятность того, что ровно два мяча белые? Какова вероятность того, что хотя бы один мяч белый?\n"
   ]
  },
  {
   "cell_type": "code",
   "execution_count": 54,
   "id": "6f87b8a1",
   "metadata": {},
   "outputs": [],
   "source": [
    "from math import factorial\n",
    "from math import e"
   ]
  },
  {
   "cell_type": "markdown",
   "id": "fa7652c2",
   "metadata": {},
   "source": [
    "#### Функции для выполнения ДЗ"
   ]
  },
  {
   "cell_type": "code",
   "execution_count": 55,
   "id": "424e0a29",
   "metadata": {},
   "outputs": [],
   "source": [
    "def combinations(n, k):    \n",
    "    'Сочетания (Сnk) из n по k'\n",
    "    return int(factorial(n) / (factorial(k) * factorial(n - k)))"
   ]
  },
  {
   "cell_type": "markdown",
   "id": "ad7ab246",
   "metadata": {},
   "source": [
    "1.\tВероятность того, что стрелок попадет в мишень, выстрелив один раз, равна 0.8. Стрелок выстрелил 100 раз. Найдите вероятность того, что стрелок попадет в цель ровно 85 раз."
   ]
  },
  {
   "cell_type": "markdown",
   "id": "7c058dcb",
   "metadata": {},
   "source": [
    "Решение:"
   ]
  },
  {
   "cell_type": "markdown",
   "id": "f8ac21d4",
   "metadata": {},
   "source": [
    "Воспользуемся формулой Бернулли $p(X=k) = C_n^kp^kq^{n-k}$:"
   ]
  },
  {
   "cell_type": "code",
   "execution_count": 56,
   "id": "182b4669",
   "metadata": {},
   "outputs": [],
   "source": [
    "p = 0.8\n",
    "n = 100\n",
    "k = 85\n",
    "q = 1 - p"
   ]
  },
  {
   "cell_type": "code",
   "execution_count": 57,
   "id": "b33aa5c9",
   "metadata": {},
   "outputs": [],
   "source": [
    "p_k = combinations(n, k) * p**k * q**(n - k)"
   ]
  },
  {
   "cell_type": "code",
   "execution_count": 58,
   "id": "d02b6f83",
   "metadata": {},
   "outputs": [
    {
     "data": {
      "text/plain": [
       "0.04806"
      ]
     },
     "execution_count": 58,
     "metadata": {},
     "output_type": "execute_result"
    }
   ],
   "source": [
    "round(p_k, 5)"
   ]
  },
  {
   "cell_type": "markdown",
   "id": "fef6ec89",
   "metadata": {},
   "source": [
    "2.\tВероятность того, что лампочка перегорит в течение первого дня эксплуатации, равна 0.0004. В жилом комплексе после ремонта в один день включили 5000 новых лампочек. Какова вероятность, что ни одна из них не перегорит в первый день? Какова вероятность, что перегорят ровно две?"
   ]
  },
  {
   "cell_type": "markdown",
   "id": "e3717ce2",
   "metadata": {},
   "source": [
    "Решение: "
   ]
  },
  {
   "cell_type": "markdown",
   "id": "1f5e6492",
   "metadata": {},
   "source": [
    "T.к. p << 0.1 и m >> 100, воспользуемся формулой Пуассона:"
   ]
  },
  {
   "cell_type": "markdown",
   "id": "41513765",
   "metadata": {},
   "source": [
    "$P_m \\approx \\frac{\\lambda^m}{m!}e^{-\\lambda}$, где $λ = np$."
   ]
  },
  {
   "cell_type": "markdown",
   "id": "2fc84aa9",
   "metadata": {},
   "source": [
    "1)"
   ]
  },
  {
   "cell_type": "code",
   "execution_count": 59,
   "id": "f906682e",
   "metadata": {},
   "outputs": [],
   "source": [
    "p = 0.0004\n",
    "n = 5000\n",
    "m = 0"
   ]
  },
  {
   "cell_type": "code",
   "execution_count": 60,
   "id": "d0052597",
   "metadata": {},
   "outputs": [],
   "source": [
    "lbd = n * p"
   ]
  },
  {
   "cell_type": "code",
   "execution_count": 61,
   "id": "8e0c5325",
   "metadata": {},
   "outputs": [],
   "source": [
    "p_m = ((lbd**m) / factorial(m)) * (e**-lbd)"
   ]
  },
  {
   "cell_type": "code",
   "execution_count": 62,
   "id": "069c479f",
   "metadata": {},
   "outputs": [
    {
     "data": {
      "text/plain": [
       "0.13534"
      ]
     },
     "execution_count": 62,
     "metadata": {},
     "output_type": "execute_result"
    }
   ],
   "source": [
    "round(p_m, 5)"
   ]
  },
  {
   "cell_type": "markdown",
   "id": "ce66dfde",
   "metadata": {},
   "source": [
    "2)"
   ]
  },
  {
   "cell_type": "code",
   "execution_count": 63,
   "id": "1bbc32f1",
   "metadata": {},
   "outputs": [],
   "source": [
    "p = 0.0004\n",
    "n = 5000\n",
    "m = 2"
   ]
  },
  {
   "cell_type": "code",
   "execution_count": 64,
   "id": "1a61eb1e",
   "metadata": {},
   "outputs": [],
   "source": [
    "lbd = n * p"
   ]
  },
  {
   "cell_type": "code",
   "execution_count": 65,
   "id": "07029c03",
   "metadata": {},
   "outputs": [],
   "source": [
    "p_m = ((lbd**m) / factorial(m)) * (e**-lbd)"
   ]
  },
  {
   "cell_type": "code",
   "execution_count": 66,
   "id": "1578ff51",
   "metadata": {},
   "outputs": [
    {
     "data": {
      "text/plain": [
       "0.27067"
      ]
     },
     "execution_count": 66,
     "metadata": {},
     "output_type": "execute_result"
    }
   ],
   "source": [
    "round(p_m, 5)"
   ]
  },
  {
   "cell_type": "markdown",
   "id": "2a553453",
   "metadata": {},
   "source": [
    "3.\tМонету подбросили 144 раза. Какова вероятность, что орел выпадет ровно 70 раз?"
   ]
  },
  {
   "cell_type": "markdown",
   "id": "d2c1c890",
   "metadata": {},
   "source": [
    "Решение:"
   ]
  },
  {
   "cell_type": "markdown",
   "id": "49e8eebd",
   "metadata": {},
   "source": [
    "Воспользуемся формулой Бернулли $p(X=k) = C_n^kp^kq^{n-k}$:"
   ]
  },
  {
   "cell_type": "code",
   "execution_count": 67,
   "id": "b3f27942",
   "metadata": {},
   "outputs": [],
   "source": [
    "p = 0.5\n",
    "n = 144\n",
    "k = 70\n",
    "q = 1 - p"
   ]
  },
  {
   "cell_type": "code",
   "execution_count": 68,
   "id": "bf223b21",
   "metadata": {},
   "outputs": [],
   "source": [
    "p_k = combinations(n, k) * p**k * q**(n - k)"
   ]
  },
  {
   "cell_type": "code",
   "execution_count": 69,
   "id": "f137c51b",
   "metadata": {},
   "outputs": [
    {
     "data": {
      "text/plain": [
       "0.06281"
      ]
     },
     "execution_count": 69,
     "metadata": {},
     "output_type": "execute_result"
    }
   ],
   "source": [
    "round(p_k, 5)"
   ]
  },
  {
   "cell_type": "markdown",
   "id": "19f3fc11",
   "metadata": {},
   "source": [
    "4.\tВ первом ящике находится 10 мячей, из которых 7 - белые. Во втором ящике - 11 мячей, из которых 9 белых. Из каждого ящика вытаскивают случайным образом по два мяча. a) Какова вероятность того, что все мячи белые? б) Какова вероятность того, что ровно два мяча белые? в) Какова вероятность того, что хотя бы один мяч белый?\n"
   ]
  },
  {
   "cell_type": "markdown",
   "id": "1b898a72",
   "metadata": {},
   "source": [
    "a) Какова вероятность того, что все мячи белые?"
   ]
  },
  {
   "cell_type": "markdown",
   "id": "6b5816eb",
   "metadata": {},
   "source": [
    "Событе A - извлечение 2 бел. мячей из 1 корзины, событие B - извлечение 2 бел. мячей из 2 корзины. События незавиcимые =>"
   ]
  },
  {
   "cell_type": "code",
   "execution_count": 70,
   "id": "81db9200",
   "metadata": {},
   "outputs": [],
   "source": [
    "p_a = combinations(7, 2) / combinations(10, 2)"
   ]
  },
  {
   "cell_type": "code",
   "execution_count": 71,
   "id": "bbf711f3",
   "metadata": {},
   "outputs": [],
   "source": [
    "p_b = combinations(9, 2) / combinations(11, 2)"
   ]
  },
  {
   "cell_type": "code",
   "execution_count": 72,
   "id": "df49455c",
   "metadata": {},
   "outputs": [],
   "source": [
    "p = p_a * p_b"
   ]
  },
  {
   "cell_type": "code",
   "execution_count": 73,
   "id": "588615e1",
   "metadata": {},
   "outputs": [
    {
     "data": {
      "text/plain": [
       "0.30545"
      ]
     },
     "execution_count": 73,
     "metadata": {},
     "output_type": "execute_result"
    }
   ],
   "source": [
    "round(p, 5)"
   ]
  },
  {
   "cell_type": "markdown",
   "id": "2dcb28ef",
   "metadata": {},
   "source": [
    "б) Какова вероятность того, что ровно два мяча белые?"
   ]
  },
  {
   "cell_type": "markdown",
   "id": "64c6dd30",
   "metadata": {},
   "source": [
    "Ровно два белых мяча могут быть получены тремя разными способами: 2 + 0, 1 + 1, 0 + 2. Эти события несовместны, поэтому вероятности можно складывать"
   ]
  },
  {
   "cell_type": "code",
   "execution_count": 74,
   "id": "84cfab1f",
   "metadata": {},
   "outputs": [],
   "source": [
    "p1 = (combinations(7, 2) / combinations(10, 2)) * (combinations(2, 2) / combinations(11, 2))"
   ]
  },
  {
   "cell_type": "code",
   "execution_count": 75,
   "id": "ed5fe97f",
   "metadata": {},
   "outputs": [],
   "source": [
    "p2 = ((combinations(7, 1) * (combinations(3, 1))/ combinations(10, 2))) *\\\n",
    "    ((combinations(9, 1) * (combinations(2, 1))/ combinations(11, 2)))"
   ]
  },
  {
   "cell_type": "code",
   "execution_count": 76,
   "id": "87932922",
   "metadata": {},
   "outputs": [],
   "source": [
    "p3 = (combinations(3, 2) / combinations(10, 2)) * (combinations(9, 2) / combinations(11, 2))"
   ]
  },
  {
   "cell_type": "code",
   "execution_count": 77,
   "id": "40a8e42d",
   "metadata": {},
   "outputs": [
    {
     "data": {
      "text/plain": [
       "0.20485"
      ]
     },
     "execution_count": 77,
     "metadata": {},
     "output_type": "execute_result"
    }
   ],
   "source": [
    "p = p1 + p2 + p3\n",
    "round(p, 5)"
   ]
  },
  {
   "cell_type": "markdown",
   "id": "02e32e7b",
   "metadata": {},
   "source": [
    "в) Какова вероятность того, что хотя бы один мяч белый?"
   ]
  },
  {
   "cell_type": "markdown",
   "id": "46c08145",
   "metadata": {},
   "source": [
    "Решим задачу от обратного: найдем вероятность, что ни один мяч не белый и вычтем из 1"
   ]
  },
  {
   "cell_type": "code",
   "execution_count": 83,
   "id": "12624429",
   "metadata": {},
   "outputs": [],
   "source": [
    "p_a = combinations(3, 2) / combinations(10, 2)"
   ]
  },
  {
   "cell_type": "code",
   "execution_count": 84,
   "id": "532a8c13",
   "metadata": {},
   "outputs": [],
   "source": [
    "p_b = combinations(2, 2) / combinations(11, 2)"
   ]
  },
  {
   "cell_type": "code",
   "execution_count": 85,
   "id": "d8915586",
   "metadata": {},
   "outputs": [],
   "source": [
    "p = p_a * p_b"
   ]
  },
  {
   "cell_type": "code",
   "execution_count": 86,
   "id": "d87f9c78",
   "metadata": {},
   "outputs": [
    {
     "data": {
      "text/plain": [
       "0.99879"
      ]
     },
     "execution_count": 86,
     "metadata": {},
     "output_type": "execute_result"
    }
   ],
   "source": [
    "round(1 - p, 5)"
   ]
  }
 ],
 "metadata": {
  "kernelspec": {
   "display_name": "Python 3 (ipykernel)",
   "language": "python",
   "name": "python3"
  },
  "language_info": {
   "codemirror_mode": {
    "name": "ipython",
    "version": 3
   },
   "file_extension": ".py",
   "mimetype": "text/x-python",
   "name": "python",
   "nbconvert_exporter": "python",
   "pygments_lexer": "ipython3",
   "version": "3.9.12"
  }
 },
 "nbformat": 4,
 "nbformat_minor": 5
}
