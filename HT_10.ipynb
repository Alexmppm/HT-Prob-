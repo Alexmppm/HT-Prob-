{
 "cells": [
  {
   "cell_type": "markdown",
   "id": "a38d16eb",
   "metadata": {},
   "source": [
    "## Home task 10"
   ]
  },
  {
   "cell_type": "markdown",
   "id": "f2a4cc02",
   "metadata": {},
   "source": [
    "Провести дисперсионный анализ для определения того, есть ли различия среднего роста среди взрослых футболистов, хоккеистов и штангистов. Даны значения роста в трех группах случайно выбранных спортсменов: Футболисты: 173, 175, 180, 178, 177, 185, 183, 182. Хоккеисты: 177, 179, 180, 188, 177, 172, 171, 184, 180. Штангисты: 172, 173, 169, 177, 166, 180, 178, 177, 172, 166, 170. Данная промежуточная аттестация оценивается по системе \"зачет\" / \"не зачет\". \"Зачет\" ставится, если Слушатель успешно выполнил задание. \"Незачет\" ставится, если Слушатель не выполнил задание. Критерии оценивания: 1 - Слушатель провел дисперсионный анализ для определения того, есть ли различия среднего роста среди взрослых футболистов, хоккеистов и штангистов."
   ]
  },
  {
   "cell_type": "code",
   "execution_count": 54,
   "id": "ec93ea53",
   "metadata": {},
   "outputs": [],
   "source": [
    "import numpy as np\n",
    "import pandas as pd\n",
    "from scipy import stats\n",
    "import matplotlib.pyplot as plt"
   ]
  },
  {
   "cell_type": "code",
   "execution_count": 55,
   "id": "018df408",
   "metadata": {},
   "outputs": [],
   "source": [
    "y1 = np.array([173, 175, 180, 178, 177, 185, 183, 182])\n",
    "y2 = np.array([177, 179, 180, 188, 177, 172, 171, 184, 180])\n",
    "y3 = np.array([172, 173, 169, 177, 166, 180, 178, 177, 172, 166, 170])"
   ]
  },
  {
   "cell_type": "markdown",
   "id": "b341eb72",
   "metadata": {},
   "source": [
    "#### Разведочный анализ"
   ]
  },
  {
   "cell_type": "markdown",
   "id": "e80b817e",
   "metadata": {},
   "source": [
    "Изобразим графичсески"
   ]
  },
  {
   "cell_type": "code",
   "execution_count": 57,
   "id": "44d9704e",
   "metadata": {},
   "outputs": [
    {
     "data": {
      "image/png": "[encoded data removed]",
      "text/plain": [
       "<Figure size 432x288 with 1 Axes>"
      ]
     },
     "metadata": {
      "needs_background": "light"
     },
     "output_type": "display_data"
    }
   ],
   "source": [
    "plt.scatter(np.full((len(y1)), 1), y1)\n",
    "plt.scatter(np.full((len(y2)), 2), y2)\n",
    "plt.scatter(np.full((len(y3)), 3), y3)\n",
    "plt.scatter([4, 4, 4], [np.mean(y1), np.mean(y2), np.mean(y3)])\n",
    "plt.show()"
   ]
  },
  {
   "cell_type": "markdown",
   "id": "c1e939d7",
   "metadata": {},
   "source": [
    "Проверим на нормальность"
   ]
  },
  {
   "cell_type": "code",
   "execution_count": 58,
   "id": "1e0620d4",
   "metadata": {},
   "outputs": [
    {
     "data": {
      "text/plain": [
       "ShapiroResult(statistic=0.9775081276893616, pvalue=0.9495397210121155)"
      ]
     },
     "execution_count": 58,
     "metadata": {},
     "output_type": "execute_result"
    }
   ],
   "source": [
    "stats.shapiro(y1)"
   ]
  },
  {
   "cell_type": "code",
   "execution_count": 59,
   "id": "16798294",
   "metadata": {},
   "outputs": [
    {
     "data": {
      "text/plain": [
       "ShapiroResult(statistic=0.9579195976257324, pvalue=0.7763133645057678)"
      ]
     },
     "execution_count": 59,
     "metadata": {},
     "output_type": "execute_result"
    }
   ],
   "source": [
    "stats.shapiro(y2)"
   ]
  },
  {
   "cell_type": "code",
   "execution_count": 60,
   "id": "d0a71ebb",
   "metadata": {},
   "outputs": [
    {
     "data": {
      "text/plain": [
       "ShapiroResult(statistic=0.93868088722229, pvalue=0.5051169991493225)"
      ]
     },
     "execution_count": 60,
     "metadata": {},
     "output_type": "execute_result"
    }
   ],
   "source": [
    "stats.shapiro(y3)"
   ]
  },
  {
   "cell_type": "markdown",
   "id": "fd72ac87",
   "metadata": {},
   "source": [
    "p-value > 0.05 => нет отличий от нормального распределения"
   ]
  },
  {
   "cell_type": "markdown",
   "id": "a4d60499",
   "metadata": {},
   "source": [
    "Проверим равенство дисперсий"
   ]
  },
  {
   "cell_type": "code",
   "execution_count": 61,
   "id": "d79ce01d",
   "metadata": {},
   "outputs": [
    {
     "data": {
      "text/plain": [
       "BartlettResult(statistic=0.4640521043406442, pvalue=0.7929254656083131)"
      ]
     },
     "execution_count": 61,
     "metadata": {},
     "output_type": "execute_result"
    }
   ],
   "source": [
    "stats.bartlett(y1, y2, y3)"
   ]
  },
  {
   "cell_type": "markdown",
   "id": "92b70738",
   "metadata": {},
   "source": [
    "p-value > 0.05 => H:0 - дисперсии не различаются"
   ]
  },
  {
   "cell_type": "markdown",
   "id": "fc9e18af",
   "metadata": {},
   "source": [
    "#### Проведем дисперсный анализ"
   ]
  },
  {
   "cell_type": "markdown",
   "id": "e77458a7",
   "metadata": {},
   "source": [
    "H0: mu1 = mu2 = mu3  \n",
    "H1: mu1<>mu2, mu2<>mu3, mu1<>mu3"
   ]
  },
  {
   "cell_type": "code",
   "execution_count": 62,
   "id": "28f02539",
   "metadata": {},
   "outputs": [
    {
     "data": {
      "text/plain": [
       "F_onewayResult(statistic=5.500053450812596, pvalue=0.010482206918698694)"
      ]
     },
     "execution_count": 62,
     "metadata": {},
     "output_type": "execute_result"
    }
   ],
   "source": [
    "stats.f_oneway(y1, y2, y3)"
   ]
  },
  {
   "cell_type": "markdown",
   "id": "58537682",
   "metadata": {},
   "source": [
    "p-value < 0.05 => принимается альтернативная гипотеза => имеются статистически значиые различия между средним ростом в трех группах спортсменов"
   ]
  },
  {
   "cell_type": "code",
   "execution_count": null,
   "id": "0cbeee7e",
   "metadata": {},
   "outputs": [],
   "source": []
  }
 ],
 "metadata": {
  "kernelspec": {
   "display_name": "Python 3 (ipykernel)",
   "language": "python",
   "name": "python3"
  },
  "language_info": {
   "codemirror_mode": {
    "name": "ipython",
    "version": 3
   },
   "file_extension": ".py",
   "mimetype": "text/x-python",
   "name": "python",
   "nbconvert_exporter": "python",
   "pygments_lexer": "ipython3",
   "version": "3.9.12"
  }
 },
 "nbformat": 4,
 "nbformat_minor": 5
}
