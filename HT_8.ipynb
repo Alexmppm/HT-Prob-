{
 "cells": [
  {
   "cell_type": "markdown",
   "id": "a38d16eb",
   "metadata": {},
   "source": [
    "## Home task 8"
   ]
  },
  {
   "cell_type": "markdown",
   "id": "f2a4cc02",
   "metadata": {},
   "source": [
    "1. Даны значения величины заработной платы заемщиков банка (zp) и значения их поведенческого кредитного скоринга (ks): zp = [35, 45, 190, 200, 40, 70, 54, 150, 120, 110], ks = [401, 574, 874, 919, 459, 739, 653, 902, 746, 832]. Найдите ковариацию этих двух величин с помощью элементарных действий, а затем с помощью функции cov из numpy Полученные значения должны быть равны. Найдите коэффициент корреляции Пирсона с помощью ковариации и среднеквадратичных отклонений двух признаков, а затем с использованием функций из библиотек numpy и pandas.  \n",
    "2. Измерены значения IQ выборки студентов, обучающихся в местных технических вузах: 131, 125, 115, 122, 131, 115, 107, 99, 125, 111. Известно, что в генеральной совокупности IQ распределен нормально. Найдите доверительный интервал для математического ожидания с надежностью 0.95.  \n",
    "3. Известно, что рост футболистов в сборной распределен нормально с дисперсией генеральной совокупности, равной 25 кв.см. Объем выборки равен 27, среднее выборочное составляет 174.2. Найдите доверительный интервал для математического ожидания с надежностью 0.95."
   ]
  },
  {
   "cell_type": "code",
   "execution_count": 43,
   "id": "ec93ea53",
   "metadata": {},
   "outputs": [],
   "source": [
    "import numpy as np\n",
    "import pandas as pd\n",
    "from statistics import NormalDist as nd\n",
    "import scipy.stats as stats"
   ]
  },
  {
   "cell_type": "markdown",
   "id": "d621958f",
   "metadata": {},
   "source": [
    "### Задание 1"
   ]
  },
  {
   "cell_type": "markdown",
   "id": "2235c2e5",
   "metadata": {},
   "source": [
    "Даны значения величины заработной платы заемщиков банка (zp) и значения их поведенческого кредитного скоринга (ks): zp = [35, 45, 190, 200, 40, 70, 54, 150, 120, 110], ks = [401, 574, 874, 919, 459, 739, 653, 902, 746, 832]. Найдите ковариацию этих двух величин с помощью элементарных действий, а затем с помощью функции cov из numpy Полученные значения должны быть равны. Найдите коэффициент корреляции Пирсона с помощью ковариации и среднеквадратичных отклонений двух признаков, а затем с использованием функций из библиотек numpy и pandas."
   ]
  },
  {
   "cell_type": "code",
   "execution_count": 44,
   "id": "018df408",
   "metadata": {},
   "outputs": [],
   "source": [
    "zp = np.array([35, 45, 190, 200, 40, 70, 54, 150, 120, 110])\n",
    "ks = np.array([401, 574, 874, 919, 459, 739, 653, 902, 746, 832])"
   ]
  },
  {
   "cell_type": "markdown",
   "id": "1bcaa64b",
   "metadata": {},
   "source": [
    "$$ cov_{xy} = M(XY) - M(X) * M(Y)$$"
   ]
  },
  {
   "cell_type": "code",
   "execution_count": 45,
   "id": "4392bcaa",
   "metadata": {},
   "outputs": [
    {
     "data": {
      "text/plain": [
       "9157.839999999997"
      ]
     },
     "execution_count": 45,
     "metadata": {},
     "output_type": "execute_result"
    }
   ],
   "source": [
    "cov = np.mean(zp*ks) - np.mean(zp) * np.mean(ks)\n",
    "cov"
   ]
  },
  {
   "cell_type": "code",
   "execution_count": 46,
   "id": "d8b596ec",
   "metadata": {},
   "outputs": [
    {
     "data": {
      "text/plain": [
       "array([[ 3494.64,  9157.84],\n",
       "       [ 9157.84, 30468.89]])"
      ]
     },
     "execution_count": 46,
     "metadata": {},
     "output_type": "execute_result"
    }
   ],
   "source": [
    "np.cov(zp, ks, ddof=0)"
   ]
  },
  {
   "cell_type": "markdown",
   "id": "63f5e7bc",
   "metadata": {},
   "source": [
    "Коэффициент корреляции Пирсона $$ r =\\frac{cov_{xy}}{\\sigma_{x}*\\sigma_{y}}$$"
   ]
  },
  {
   "cell_type": "code",
   "execution_count": 47,
   "id": "7e50c412",
   "metadata": {},
   "outputs": [],
   "source": [
    "s_zp = np.std(zp, ddof=0)\n",
    "s_ks = np.std(ks, ddof=0)"
   ]
  },
  {
   "cell_type": "code",
   "execution_count": 48,
   "id": "da804b89",
   "metadata": {},
   "outputs": [
    {
     "data": {
      "text/plain": [
       "0.8874900920739158"
      ]
     },
     "execution_count": 48,
     "metadata": {},
     "output_type": "execute_result"
    }
   ],
   "source": [
    "r = cov / (s_zp * s_ks)\n",
    "r"
   ]
  },
  {
   "cell_type": "markdown",
   "id": "d5a5fca1",
   "metadata": {},
   "source": [
    "np.corrcoef(zp, ks)"
   ]
  },
  {
   "cell_type": "markdown",
   "id": "a758e2e4",
   "metadata": {},
   "source": [
    "### Задание 2"
   ]
  },
  {
   "cell_type": "markdown",
   "id": "07b44135",
   "metadata": {},
   "source": [
    "Измерены значения IQ выборки студентов, обучающихся в местных технических вузах: 131, 125, 115, 122, 131, 115, 107, 99, 125, 111. Известно, что в генеральной совокупности IQ распределен нормально. Найдите доверительный интервал для математического ожидания с надежностью 0.95."
   ]
  },
  {
   "cell_type": "code",
   "execution_count": 49,
   "id": "b3fc8164",
   "metadata": {},
   "outputs": [],
   "source": [
    "x = np.array([131, 125, 115, 122, 131, 115, 107, 99, 125, 111])\n",
    "a = 0.95"
   ]
  },
  {
   "cell_type": "markdown",
   "id": "003a1899",
   "metadata": {},
   "source": [
    "X ~ N, $\\sigma$ для ГС не известна =>$$ \\bar{x} \\pm t_{\\frac{\\alpha}{2}} * \\frac{\\sigma}{\\sqrt{n}}$$"
   ]
  },
  {
   "cell_type": "code",
   "execution_count": 50,
   "id": "8427257e",
   "metadata": {},
   "outputs": [
    {
     "data": {
      "text/plain": [
       "(110.55608365158724, 125.64391634841274)"
      ]
     },
     "execution_count": 50,
     "metadata": {},
     "output_type": "execute_result"
    }
   ],
   "source": [
    "stats.t.interval(alpha=a, df=len(x)-1, loc=np.mean(x), scale=stats.sem(x))"
   ]
  },
  {
   "cell_type": "code",
   "execution_count": 51,
   "id": "55304c85",
   "metadata": {},
   "outputs": [],
   "source": [
    "mu = np.mean(x)"
   ]
  },
  {
   "cell_type": "code",
   "execution_count": null,
   "id": "3c2cc016",
   "metadata": {},
   "outputs": [],
   "source": []
  },
  {
   "cell_type": "markdown",
   "id": "7c33df6a",
   "metadata": {},
   "source": [
    "Расчет \"вручную\":"
   ]
  },
  {
   "cell_type": "code",
   "execution_count": 52,
   "id": "961355b8",
   "metadata": {},
   "outputs": [],
   "source": [
    "t = stats.t.ppf(0.975, (len(x)-1))"
   ]
  },
  {
   "cell_type": "code",
   "execution_count": 53,
   "id": "c016c702",
   "metadata": {},
   "outputs": [
    {
     "data": {
      "text/plain": [
       "2.2621571627409915"
      ]
     },
     "execution_count": 53,
     "metadata": {},
     "output_type": "execute_result"
    }
   ],
   "source": [
    "t"
   ]
  },
  {
   "cell_type": "code",
   "execution_count": 54,
   "id": "f5416983",
   "metadata": {},
   "outputs": [
    {
     "data": {
      "text/plain": [
       "10.54566788359614"
      ]
     },
     "execution_count": 54,
     "metadata": {},
     "output_type": "execute_result"
    }
   ],
   "source": [
    "s=np.std(x, ddof=1)\n",
    "s"
   ]
  },
  {
   "cell_type": "code",
   "execution_count": 55,
   "id": "eb1a2b6e",
   "metadata": {},
   "outputs": [
    {
     "data": {
      "text/plain": [
       "110.55608365158724"
      ]
     },
     "execution_count": 55,
     "metadata": {},
     "output_type": "execute_result"
    }
   ],
   "source": [
    "mu - t * (s/(len(x)**0.5))"
   ]
  },
  {
   "cell_type": "code",
   "execution_count": 56,
   "id": "5dddce3b",
   "metadata": {},
   "outputs": [
    {
     "data": {
      "text/plain": [
       "125.64391634841274"
      ]
     },
     "execution_count": 56,
     "metadata": {},
     "output_type": "execute_result"
    }
   ],
   "source": [
    "mu + t * (s/(len(x)**0.5))"
   ]
  },
  {
   "cell_type": "markdown",
   "id": "cd9c9738",
   "metadata": {},
   "source": [
    "### Задание 3"
   ]
  },
  {
   "cell_type": "markdown",
   "id": "7265306d",
   "metadata": {},
   "source": [
    "Известно, что рост футболистов в сборной распределен нормально с дисперсией генеральной совокупности, равной 25 кв.см. Объем выборки равен 27, среднее выборочное составляет 174.2. Найдите доверительный интервал для математического ожидания с надежностью 0.95."
   ]
  },
  {
   "cell_type": "markdown",
   "id": "7db30e1e",
   "metadata": {},
   "source": [
    "X ~ N"
   ]
  },
  {
   "cell_type": "code",
   "execution_count": 58,
   "id": "6065971e",
   "metadata": {},
   "outputs": [],
   "source": [
    "S = 25\n",
    "n = 27\n",
    "x_mean = 174.2\n",
    "s = S * 0.5"
   ]
  },
  {
   "cell_type": "markdown",
   "id": "b7a38afd",
   "metadata": {},
   "source": [
    "$$ \\bar{x} \\pm z_{\\frac{\\alpha}{2}} * \\frac{\\sigma}{\\sqrt{n}}$$"
   ]
  },
  {
   "cell_type": "code",
   "execution_count": 59,
   "id": "76d27dae",
   "metadata": {},
   "outputs": [
    {
     "data": {
      "text/plain": [
       "1.9599639845400536"
      ]
     },
     "execution_count": 59,
     "metadata": {},
     "output_type": "execute_result"
    }
   ],
   "source": [
    "z = nd().inv_cdf(0.975)\n",
    "z"
   ]
  },
  {
   "cell_type": "code",
   "execution_count": 60,
   "id": "3c7373ba",
   "metadata": {},
   "outputs": [
    {
     "data": {
      "text/plain": [
       "169.48505944134928"
      ]
     },
     "execution_count": 60,
     "metadata": {},
     "output_type": "execute_result"
    }
   ],
   "source": [
    "L = x_mean - z * (s/(n**0.5))\n",
    "L"
   ]
  },
  {
   "cell_type": "code",
   "execution_count": 61,
   "id": "cb088808",
   "metadata": {},
   "outputs": [
    {
     "data": {
      "text/plain": [
       "178.9149405586507"
      ]
     },
     "execution_count": 61,
     "metadata": {},
     "output_type": "execute_result"
    }
   ],
   "source": [
    "U = x_mean + z * (s/(n**0.5))\n",
    "U"
   ]
  },
  {
   "cell_type": "code",
   "execution_count": null,
   "id": "6f540192",
   "metadata": {},
   "outputs": [],
   "source": []
  }
 ],
 "metadata": {
  "kernelspec": {
   "display_name": "Python 3 (ipykernel)",
   "language": "python",
   "name": "python3"
  },
  "language_info": {
   "codemirror_mode": {
    "name": "ipython",
    "version": 3
   },
   "file_extension": ".py",
   "mimetype": "text/x-python",
   "name": "python",
   "nbconvert_exporter": "python",
   "pygments_lexer": "ipython3",
   "version": "3.9.12"
  }
 },
 "nbformat": 4,
 "nbformat_minor": 5
}
