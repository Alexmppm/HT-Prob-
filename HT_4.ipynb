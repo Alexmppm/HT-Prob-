{
 "cells": [
  {
   "cell_type": "markdown",
   "id": "593c73b1",
   "metadata": {},
   "source": [
    "## Home task 4"
   ]
  },
  {
   "cell_type": "markdown",
   "id": "a115c9dc",
   "metadata": {},
   "source": [
    "1.\tСлучайная непрерывная величина A имеет равномерное распределение на промежутке (200, 800].\n",
    "Найдите ее среднее значение и дисперсию.\n",
    "2.\tО случайной непрерывной равномерно распределенной величине B известно, что ее дисперсия равна 0.2.\n",
    "Можно ли найти правую границу величины B и ее среднее значение зная, что левая граница равна 0.5?\n",
    "Если да, найдите ее.\n",
    "3.\tНепрерывная случайная величина X распределена нормально и задана плотностью распределения\n",
    "f(x) = (1 / (4 * sqrt(2*pi))) * (exp(-(x+2)**2) / 32).\n",
    "Найдите:\n",
    "а). M(X)\n",
    "б). D(X)\n",
    "в). std(X) (среднее квадратичное отклонение)\n",
    "4.\tРост взрослого населения города X имеет нормальное распределение.\n",
    "Причем, средний рост равен 174 см, а среднее квадратичное отклонение равно 8 см.\n",
    "Какова вероятность того, что случайным образом выбранный взрослый человек имеет рост:\n",
    "а). больше 182 см\n",
    "б). больше 190 см\n",
    "в). от 166 см до 190 см\n",
    "г). от 166 см до 182 см\n",
    "д). от 158 см до 190 см\n",
    "е). не выше 150 см или не ниже 190 см\n",
    "ё). не выше 150 см или не ниже 198 см\n",
    "ж). ниже 166 см.\n",
    "5.\tНа сколько сигм (средних квадратичных отклонений) отклоняется рост человека, равный 190 см, от\n",
    "математического ожидания роста в популяции, в которой M(X) = 178 см и D(X) = 25 кв.см?\n"
   ]
  },
  {
   "cell_type": "markdown",
   "id": "ab1836ab",
   "metadata": {},
   "source": [
    "1. Случайная непрерывная величина A имеет равномерное распределение на промежутке (200, 800]. Найдите ее среднее значение и дисперсию."
   ]
  },
  {
   "cell_type": "code",
   "execution_count": 1,
   "id": "71a0a07d",
   "metadata": {},
   "outputs": [],
   "source": [
    "from math import sqrt"
   ]
  },
  {
   "cell_type": "code",
   "execution_count": 2,
   "id": "d0261dd9",
   "metadata": {},
   "outputs": [],
   "source": [
    "a = 200\n",
    "b = 800"
   ]
  },
  {
   "cell_type": "code",
   "execution_count": 3,
   "id": "ae236e78",
   "metadata": {},
   "outputs": [
    {
     "data": {
      "text/plain": [
       "500.0"
      ]
     },
     "execution_count": 3,
     "metadata": {},
     "output_type": "execute_result"
    }
   ],
   "source": [
    "m_x = (b + a) / 2\n",
    "m_x"
   ]
  },
  {
   "cell_type": "code",
   "execution_count": 4,
   "id": "8b439852",
   "metadata": {},
   "outputs": [
    {
     "data": {
      "text/plain": [
       "30000.0"
      ]
     },
     "execution_count": 4,
     "metadata": {},
     "output_type": "execute_result"
    }
   ],
   "source": [
    "d_x = (b - a)**2 / 12\n",
    "d_x"
   ]
  },
  {
   "cell_type": "markdown",
   "id": "b60c7c8b",
   "metadata": {},
   "source": [
    "2. О случайной непрерывной равномерно распределенной величине B известно, что ее дисперсия равна 0.2. Можно ли найти правую границу величины B и ее среднее значение зная, что левая граница равна 0.5? Если да, найдите ее."
   ]
  },
  {
   "cell_type": "code",
   "execution_count": 5,
   "id": "6625952a",
   "metadata": {},
   "outputs": [],
   "source": [
    "a = 0.5\n",
    "d_x = 0.2"
   ]
  },
  {
   "cell_type": "markdown",
   "id": "9e1eb554",
   "metadata": {},
   "source": [
    "D(x) = (b-a)**2 / 12 => b = sqrt(12 * D(x)) + a"
   ]
  },
  {
   "cell_type": "code",
   "execution_count": 6,
   "id": "d74c50cd",
   "metadata": {},
   "outputs": [
    {
     "data": {
      "text/plain": [
       "2.049193338482967"
      ]
     },
     "execution_count": 6,
     "metadata": {},
     "output_type": "execute_result"
    }
   ],
   "source": [
    "b = sqrt(12 * d_x) + a\n",
    "b"
   ]
  },
  {
   "cell_type": "code",
   "execution_count": 7,
   "id": "7e314668",
   "metadata": {},
   "outputs": [
    {
     "data": {
      "text/plain": [
       "1.2745966692414834"
      ]
     },
     "execution_count": 7,
     "metadata": {},
     "output_type": "execute_result"
    }
   ],
   "source": [
    "m_x = (b + a) / 2\n",
    "m_x"
   ]
  },
  {
   "cell_type": "markdown",
   "id": "f6d78695",
   "metadata": {},
   "source": [
    "3. Непрерывная случайная величина X распределена нормально и задана плотностью распределения f(x) = (1 / (4 * sqrt(2pi))) * (exp(-(x+2)*2) / 32). Найдите: а). M(X) б). D(X) в). std(X) (среднее квадратичное отклонение)"
   ]
  },
  {
   "cell_type": "markdown",
   "id": "d16be280",
   "metadata": {},
   "source": [
    "M(X) = -2  \n",
    "std(X) = 4  \n",
    "D(X) = 4**2 = 16"
   ]
  },
  {
   "cell_type": "code",
   "execution_count": null,
   "id": "cf7f9f1c",
   "metadata": {},
   "outputs": [],
   "source": []
  },
  {
   "cell_type": "markdown",
   "id": "1e631458",
   "metadata": {},
   "source": [
    "4. Рост взрослого населения города X имеет нормальное распределение. Причем, средний рост равен 174 см, а среднее квадратичное отклонение равно 8 см. Какова вероятность того, что случайным образом выбранный взрослый человек имеет рост: а). больше 182 см б). больше 190 см в). от 166 см до 190 см г). от 166 см до 182 см д). от 158 см до 190 см е). не выше 150 см или не ниже 190 см ё). не выше 150 см или не ниже 198 см ж). ниже 166 см."
   ]
  },
  {
   "cell_type": "code",
   "execution_count": 8,
   "id": "de48d922",
   "metadata": {},
   "outputs": [],
   "source": [
    "m_x = 174\n",
    "std_x = 8"
   ]
  },
  {
   "cell_type": "code",
   "execution_count": 9,
   "id": "2f2c1022",
   "metadata": {},
   "outputs": [],
   "source": [
    "from statistics import NormalDist as nd"
   ]
  },
  {
   "cell_type": "code",
   "execution_count": 10,
   "id": "5242ce6e",
   "metadata": {},
   "outputs": [],
   "source": [
    "def get_z(x):\n",
    "    return((x - m_x)/std_x)"
   ]
  },
  {
   "cell_type": "markdown",
   "id": "ebd84744",
   "metadata": {},
   "source": [
    "a) больше 182 см"
   ]
  },
  {
   "cell_type": "code",
   "execution_count": 11,
   "id": "b57bf7b6",
   "metadata": {},
   "outputs": [
    {
     "data": {
      "text/plain": [
       "0.15865525393145719"
      ]
     },
     "execution_count": 11,
     "metadata": {},
     "output_type": "execute_result"
    }
   ],
   "source": [
    "1 - nd().cdf(get_z(182))"
   ]
  },
  {
   "cell_type": "markdown",
   "id": "a359f51e",
   "metadata": {},
   "source": [
    "б). больше 190 см"
   ]
  },
  {
   "cell_type": "code",
   "execution_count": 12,
   "id": "edea80d2",
   "metadata": {},
   "outputs": [
    {
     "data": {
      "text/plain": [
       "0.022750131948179098"
      ]
     },
     "execution_count": 12,
     "metadata": {},
     "output_type": "execute_result"
    }
   ],
   "source": [
    "1 - nd().cdf(get_z(190))"
   ]
  },
  {
   "cell_type": "markdown",
   "id": "066884d9",
   "metadata": {},
   "source": [
    "в). от 166 см до 190 см "
   ]
  },
  {
   "cell_type": "code",
   "execution_count": 13,
   "id": "2bdf27b7",
   "metadata": {},
   "outputs": [
    {
     "data": {
      "text/plain": [
       "0.8185946141203637"
      ]
     },
     "execution_count": 13,
     "metadata": {},
     "output_type": "execute_result"
    }
   ],
   "source": [
    "nd().cdf(get_z(190)) - nd().cdf(get_z(166))"
   ]
  },
  {
   "cell_type": "markdown",
   "id": "1bf9deba",
   "metadata": {},
   "source": [
    "г). от 166 см до 182 см"
   ]
  },
  {
   "cell_type": "code",
   "execution_count": 14,
   "id": "1959fa2f",
   "metadata": {},
   "outputs": [
    {
     "data": {
      "text/plain": [
       "0.6826894921370856"
      ]
     },
     "execution_count": 14,
     "metadata": {},
     "output_type": "execute_result"
    }
   ],
   "source": [
    "nd().cdf(get_z(182)) - nd().cdf(get_z(166))"
   ]
  },
  {
   "cell_type": "markdown",
   "id": "13b351e1",
   "metadata": {},
   "source": [
    "д). от 158 см до 190 см "
   ]
  },
  {
   "cell_type": "code",
   "execution_count": 15,
   "id": "fae152d7",
   "metadata": {},
   "outputs": [
    {
     "data": {
      "text/plain": [
       "0.9544997361036418"
      ]
     },
     "execution_count": 15,
     "metadata": {},
     "output_type": "execute_result"
    }
   ],
   "source": [
    "nd().cdf(get_z(190)) - nd().cdf(get_z(158))"
   ]
  },
  {
   "cell_type": "markdown",
   "id": "4b6e438c",
   "metadata": {},
   "source": [
    "е). не выше 150 см или не ниже 190 см "
   ]
  },
  {
   "cell_type": "code",
   "execution_count": 16,
   "id": "a621c228",
   "metadata": {},
   "outputs": [
    {
     "data": {
      "text/plain": [
       "0.0241000299798092"
      ]
     },
     "execution_count": 16,
     "metadata": {},
     "output_type": "execute_result"
    }
   ],
   "source": [
    "nd().cdf(get_z(150)) + (1 - nd().cdf(get_z(190)))"
   ]
  },
  {
   "cell_type": "markdown",
   "id": "edd0c013",
   "metadata": {},
   "source": [
    "ё). не выше 150 см или не ниже 198 см"
   ]
  },
  {
   "cell_type": "code",
   "execution_count": 17,
   "id": "1c5c9014",
   "metadata": {},
   "outputs": [
    {
     "data": {
      "text/plain": [
       "0.002699796063260207"
      ]
     },
     "execution_count": 17,
     "metadata": {},
     "output_type": "execute_result"
    }
   ],
   "source": [
    "nd().cdf(get_z(150)) + (1 - nd().cdf(get_z(198)))"
   ]
  },
  {
   "cell_type": "markdown",
   "id": "c3ed705c",
   "metadata": {},
   "source": [
    "ж). ниже 166 см."
   ]
  },
  {
   "cell_type": "code",
   "execution_count": 18,
   "id": "54941d6b",
   "metadata": {},
   "outputs": [
    {
     "data": {
      "text/plain": [
       "0.15865525393145713"
      ]
     },
     "execution_count": 18,
     "metadata": {},
     "output_type": "execute_result"
    }
   ],
   "source": [
    "nd().cdf(get_z(166))"
   ]
  },
  {
   "cell_type": "markdown",
   "id": "4fa2c34a",
   "metadata": {},
   "source": [
    "5. На сколько сигм (средних квадратичных отклонений) отклоняется рост человека, равный 190 см, от математического ожидания роста в популяции, в которой M(X) = 178 см и D(X) = 25 кв.см?"
   ]
  },
  {
   "cell_type": "code",
   "execution_count": 19,
   "id": "345965e3",
   "metadata": {},
   "outputs": [],
   "source": [
    "x = 190\n",
    "m_x = 178\n",
    "d_x = 25\n",
    "std_x = sqrt(d_x)"
   ]
  },
  {
   "cell_type": "code",
   "execution_count": 20,
   "id": "32528b33",
   "metadata": {},
   "outputs": [
    {
     "data": {
      "text/plain": [
       "2.4"
      ]
     },
     "execution_count": 20,
     "metadata": {},
     "output_type": "execute_result"
    }
   ],
   "source": [
    "(x - m_x) / std_x"
   ]
  },
  {
   "cell_type": "code",
   "execution_count": null,
   "id": "7cc524ee",
   "metadata": {},
   "outputs": [],
   "source": []
  }
 ],
 "metadata": {
  "kernelspec": {
   "display_name": "Python 3 (ipykernel)",
   "language": "python",
   "name": "python3"
  },
  "language_info": {
   "codemirror_mode": {
    "name": "ipython",
    "version": 3
   },
   "file_extension": ".py",
   "mimetype": "text/x-python",
   "name": "python",
   "nbconvert_exporter": "python",
   "pygments_lexer": "ipython3",
   "version": "3.9.12"
  }
 },
 "nbformat": 4,
 "nbformat_minor": 5
}
