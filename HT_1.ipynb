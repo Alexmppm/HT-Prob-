{
 "cells": [
  {
   "cell_type": "markdown",
   "id": "77546e7e",
   "metadata": {},
   "source": [
    "## Home task 1"
   ]
  },
  {
   "cell_type": "markdown",
   "id": "1b709192",
   "metadata": {},
   "source": [
    "1.\tИз колоды в 52 карты извлекаются случайным образом 4 карты. a) Найти вероятность того, что все карты – крести. б) Найти вероятность, что среди 4-х карт окажется хотя бы один туз.\n",
    "2.\tНа входной двери подъезда установлен кодовый замок, содержащий десять кнопок с цифрами от 0 до 9. Код содержит три цифры, которые нужно нажать одновременно. Какова вероятность того, что человек, не знающий код, откроет дверь с первой попытки?\n",
    "3.\tВ ящике имеется 15 деталей, из которых 9 окрашены. Рабочий случайным образом извлекает 3 детали. Какова вероятность того, что все извлеченные детали окрашены?\n",
    "4.\tВ лотерее 100 билетов. Из них 2 выигрышных. Какова вероятность того, что 2 приобретенных билета окажутся выигрышными?\n",
    "\n"
   ]
  },
  {
   "cell_type": "markdown",
   "id": "c9b5f5a0",
   "metadata": {},
   "source": [
    "##### Функции для выполнения ДЗ"
   ]
  },
  {
   "cell_type": "code",
   "execution_count": 10,
   "id": "ee785ae9",
   "metadata": {},
   "outputs": [],
   "source": [
    "from math import factorial"
   ]
  },
  {
   "cell_type": "code",
   "execution_count": 11,
   "id": "0757c19c",
   "metadata": {},
   "outputs": [],
   "source": [
    "def combinations(n, k):    \n",
    "    'Сочетания (Сnk) из n по k'\n",
    "    return int(factorial(n) / (factorial(k) * factorial(n - k)))"
   ]
  },
  {
   "cell_type": "code",
   "execution_count": 12,
   "id": "40c435a5",
   "metadata": {},
   "outputs": [],
   "source": [
    "def arrangements(n, k):\n",
    "    'Размещения (Ank) из n по k'\n",
    "    return int(factorial(n) / factorial(n - k))"
   ]
  },
  {
   "cell_type": "code",
   "execution_count": 13,
   "id": "1d3afb77",
   "metadata": {},
   "outputs": [],
   "source": [
    "def permutations(n):\n",
    "    'Перестановка (Pn) из n'\n",
    "    return int(factorial(n))"
   ]
  },
  {
   "cell_type": "code",
   "execution_count": 14,
   "id": "988e1d4b",
   "metadata": {},
   "outputs": [],
   "source": [
    "def get_TPF(*p_a_b):\n",
    "    \"\"\"\n",
    "    Полная вероятность наступления события А при появлений событий B1..Bn, образующих полную группу несовместных событий,\n",
    "    имеющих равную вероятность\n",
    "    \"\"\"\n",
    "    n = len(p_a_b)\n",
    "    p_a = 0\n",
    "    for i in p_a_b:\n",
    "        p_a = p_a + (1 / n) * i\n",
    "    return(p_a)"
   ]
  },
  {
   "cell_type": "markdown",
   "id": "c6b63cae",
   "metadata": {},
   "source": [
    "### Задание 1"
   ]
  },
  {
   "cell_type": "markdown",
   "id": "4fd3a2e3",
   "metadata": {},
   "source": [
    "1.\tИз колоды в 52 карты извлекаются случайным образом 4 карты. a) Найти вероятность того, что все карты – крести. б) Найти вероятность, что среди 4-х карт окажется хотя бы один туз."
   ]
  },
  {
   "cell_type": "markdown",
   "id": "11c1361e",
   "metadata": {},
   "source": [
    "#### a)"
   ]
  },
  {
   "cell_type": "code",
   "execution_count": 15,
   "id": "e39a08c6",
   "metadata": {},
   "outputs": [
    {
     "data": {
      "text/plain": [
       "0.00264"
      ]
     },
     "execution_count": 15,
     "metadata": {},
     "output_type": "execute_result"
    }
   ],
   "source": [
    "round((combinations(13, 4) / combinations(52, 4)), 5)"
   ]
  },
  {
   "cell_type": "markdown",
   "id": "7d8cd385",
   "metadata": {},
   "source": [
    "б) решение от обратного, вариант 1"
   ]
  },
  {
   "cell_type": "code",
   "execution_count": 16,
   "id": "df9f8b10",
   "metadata": {},
   "outputs": [
    {
     "data": {
      "text/plain": [
       "0.28126"
      ]
     },
     "execution_count": 16,
     "metadata": {},
     "output_type": "execute_result"
    }
   ],
   "source": [
    "round( 1 - (combinations(48, 4) / combinations(52, 4)), 5)"
   ]
  },
  {
   "cell_type": "markdown",
   "id": "9c685351",
   "metadata": {},
   "source": [
    "б) решение от обратного, вариант 2"
   ]
  },
  {
   "cell_type": "code",
   "execution_count": 18,
   "id": "9047786f",
   "metadata": {},
   "outputs": [
    {
     "data": {
      "text/plain": [
       "0.2812632745405854"
      ]
     },
     "execution_count": 18,
     "metadata": {},
     "output_type": "execute_result"
    }
   ],
   "source": [
    "1 - (48/52 * 47/51 * 46/50 * 45/49)"
   ]
  },
  {
   "cell_type": "markdown",
   "id": "deb52a8e",
   "metadata": {},
   "source": [
    "2.\tНа входной двери подъезда установлен кодовый замок, содержащий десять кнопок с цифрами от 0 до 9. Код содержит три цифры, которые нужно нажать одновременно. Какова вероятность того, что человек, не знающий код, откроет дверь с первой попытки?"
   ]
  },
  {
   "cell_type": "code",
   "execution_count": 19,
   "id": "0fa1dd68",
   "metadata": {},
   "outputs": [
    {
     "data": {
      "text/plain": [
       "0.00833"
      ]
     },
     "execution_count": 19,
     "metadata": {},
     "output_type": "execute_result"
    }
   ],
   "source": [
    "round((1 / combinations(10, 3)), 5)"
   ]
  },
  {
   "cell_type": "markdown",
   "id": "b2493b9c",
   "metadata": {},
   "source": [
    "3.\tВ ящике имеется 15 деталей, из которых 9 окрашены. Рабочий случайным образом извлекает 3 детали. Какова вероятность того, что все извлеченные детали окрашены?"
   ]
  },
  {
   "cell_type": "code",
   "execution_count": 20,
   "id": "76d62533",
   "metadata": {},
   "outputs": [
    {
     "data": {
      "text/plain": [
       "0.18462"
      ]
     },
     "execution_count": 20,
     "metadata": {},
     "output_type": "execute_result"
    }
   ],
   "source": [
    "round((combinations(9, 3) / combinations(15, 3)), 5)"
   ]
  },
  {
   "cell_type": "markdown",
   "id": "fd7b053f",
   "metadata": {},
   "source": [
    "4.\tВ лотерее 100 билетов. Из них 2 выигрышных. Какова вероятность того, что 2 приобретенных билета окажутся выигрышными?"
   ]
  },
  {
   "cell_type": "code",
   "execution_count": 24,
   "id": "fc281966",
   "metadata": {},
   "outputs": [
    {
     "data": {
      "text/plain": [
       "0.0002"
      ]
     },
     "execution_count": 24,
     "metadata": {},
     "output_type": "execute_result"
    }
   ],
   "source": [
    "round((1 / combinations(100, 2)), 5)"
   ]
  }
 ],
 "metadata": {
  "kernelspec": {
   "display_name": "Python 3 (ipykernel)",
   "language": "python",
   "name": "python3"
  },
  "language_info": {
   "codemirror_mode": {
    "name": "ipython",
    "version": 3
   },
   "file_extension": ".py",
   "mimetype": "text/x-python",
   "name": "python",
   "nbconvert_exporter": "python",
   "pygments_lexer": "ipython3",
   "version": "3.9.12"
  }
 },
 "nbformat": 4,
 "nbformat_minor": 5
}
