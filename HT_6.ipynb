{
 "cells": [
  {
   "cell_type": "markdown",
   "id": "a38d16eb",
   "metadata": {},
   "source": [
    "## Home task 6"
   ]
  },
  {
   "cell_type": "markdown",
   "id": "f2a4cc02",
   "metadata": {},
   "source": [
    "1. Известно, что генеральная совокупность распределена нормально со средним квадратическим отклонением, равным 16. Найти доверительный интервал для оценки математического ожидания a с надежностью 0.95, если выборочная средняя M = 80, а объем выборки n = 256.  \n",
    "2. В результате 10 независимых измерений некоторой величины X, выполненных с одинаковой точностью, получены опытные данные: 6.9, 6.1, 6.2, 6.8, 7.5, 6.3, 6.4, 6.9, 6.7, 6.1 Предполагая, что результаты измерений подчинены нормальному закону распределения вероятностей, оценить истинное значение величины X при помощи доверительного интервала, покрывающего это значение с доверительной вероятностью 0,95.  \n",
    "3.Рост дочерей 175, 167, 154, 174, 178, 148, 160, 167, 169, 170 Рост матерей  178, 165, 165, 173, 168, 155, 160, 164, 178, 175 Используя эти данные построить 95% доверительный интервал для разности среднего роста родителей и детей."
   ]
  },
  {
   "cell_type": "code",
   "execution_count": 111,
   "id": "ec93ea53",
   "metadata": {},
   "outputs": [],
   "source": [
    "import numpy as np\n",
    "import pandas as pd\n",
    "from statistics import NormalDist as nd\n",
    "import scipy.stats as stats"
   ]
  },
  {
   "cell_type": "markdown",
   "id": "b0fe6870",
   "metadata": {},
   "source": [
    "### Задание 1"
   ]
  },
  {
   "cell_type": "markdown",
   "id": "e4719dbf",
   "metadata": {},
   "source": [
    "Известно, что генеральная совокупность распределена нормально со средним квадратическим отклонением, равным 16. Найти доверительный интервал для оценки математического ожидания a с надежностью 0.95, если выборочная средняя M = 80, а объем выборки n = 256."
   ]
  },
  {
   "cell_type": "code",
   "execution_count": 112,
   "id": "7c3992e7",
   "metadata": {},
   "outputs": [],
   "source": [
    "x = 80\n",
    "SD = 16\n",
    "n = 256\n",
    "a = 0.05"
   ]
  },
  {
   "cell_type": "markdown",
   "id": "0b8c5fb9",
   "metadata": {},
   "source": [
    "Формула для нахождения доверительного интервала в случае известной $\\sigma$ генеральной совокупности:\n",
    "\n",
    "$$ \\bar{x} \\pm z_{\\frac{\\alpha}{2}} * \\frac{\\sigma}{\\sqrt{n}}$$"
   ]
  },
  {
   "cell_type": "code",
   "execution_count": 113,
   "id": "025117f7",
   "metadata": {},
   "outputs": [],
   "source": [
    "z = nd().inv_cdf((1- a * 0.5))"
   ]
  },
  {
   "cell_type": "code",
   "execution_count": 114,
   "id": "cbb3652e",
   "metadata": {},
   "outputs": [
    {
     "data": {
      "text/plain": [
       "78.04003601545995"
      ]
     },
     "execution_count": 114,
     "metadata": {},
     "output_type": "execute_result"
    }
   ],
   "source": [
    "x - z * SD / (n**0.5)"
   ]
  },
  {
   "cell_type": "code",
   "execution_count": 115,
   "id": "55e24db8",
   "metadata": {},
   "outputs": [
    {
     "data": {
      "text/plain": [
       "81.95996398454005"
      ]
     },
     "execution_count": 115,
     "metadata": {},
     "output_type": "execute_result"
    }
   ],
   "source": [
    "x + z * SD / (n**0.5)"
   ]
  },
  {
   "cell_type": "markdown",
   "id": "d1a2da5e",
   "metadata": {},
   "source": [
    "### Задание 2"
   ]
  },
  {
   "cell_type": "markdown",
   "id": "4ea85c70",
   "metadata": {},
   "source": [
    "В результате 10 независимых измерений некоторой величины X, выполненных с одинаковой точностью, получены опытные данные: 6.9, 6.1, 6.2, 6.8, 7.5, 6.3, 6.4, 6.9, 6.7, 6.1 Предполагая, что результаты измерений подчинены нормальному закону распределения вероятностей, оценить истинное значение величины X при помощи доверительного интервала, покрывающего это значение с доверительной вероятностью 0,95."
   ]
  },
  {
   "cell_type": "code",
   "execution_count": 116,
   "id": "ced4424c",
   "metadata": {},
   "outputs": [],
   "source": [
    "X = pd.DataFrame([6.9, 6.1, 6.2, 6.8, 7.5, 6.3, 6.4, 6.9, 6.7, 6.1])"
   ]
  },
  {
   "cell_type": "code",
   "execution_count": 117,
   "id": "d4098acf",
   "metadata": {},
   "outputs": [],
   "source": [
    "n = len(X)"
   ]
  },
  {
   "cell_type": "code",
   "execution_count": 118,
   "id": "ac2e810d",
   "metadata": {},
   "outputs": [],
   "source": [
    "x = X.mean()"
   ]
  },
  {
   "cell_type": "code",
   "execution_count": 119,
   "id": "c4199831",
   "metadata": {},
   "outputs": [
    {
     "data": {
      "text/plain": [
       "0    0.450802\n",
       "dtype: float64"
      ]
     },
     "execution_count": 119,
     "metadata": {},
     "output_type": "execute_result"
    }
   ],
   "source": [
    "s = X.std(ddof=1)\n",
    "s"
   ]
  },
  {
   "cell_type": "code",
   "execution_count": 120,
   "id": "68dd8e4a",
   "metadata": {},
   "outputs": [
    {
     "data": {
      "text/plain": [
       "2.2621571627409915"
      ]
     },
     "execution_count": 120,
     "metadata": {},
     "output_type": "execute_result"
    }
   ],
   "source": [
    "t = stats.t.ppf(0.975, 9)\n",
    "t"
   ]
  },
  {
   "cell_type": "code",
   "execution_count": 121,
   "id": "f584d385",
   "metadata": {},
   "outputs": [
    {
     "data": {
      "text/plain": [
       "0    6.267516\n",
       "dtype: float64"
      ]
     },
     "execution_count": 121,
     "metadata": {},
     "output_type": "execute_result"
    }
   ],
   "source": [
    "x - t * (s / (n**0.5))"
   ]
  },
  {
   "cell_type": "code",
   "execution_count": 122,
   "id": "59620e9b",
   "metadata": {},
   "outputs": [
    {
     "data": {
      "text/plain": [
       "0    6.912484\n",
       "dtype: float64"
      ]
     },
     "execution_count": 122,
     "metadata": {},
     "output_type": "execute_result"
    }
   ],
   "source": [
    "x + t * (s / (n**0.5))"
   ]
  },
  {
   "cell_type": "markdown",
   "id": "e8f5920b",
   "metadata": {},
   "source": [
    "### Задание 3"
   ]
  },
  {
   "cell_type": "markdown",
   "id": "f7285873",
   "metadata": {},
   "source": [
    "Рост дочерей 175, 167, 154, 174, 178, 148, 160, 167, 169, 170 Рост матерей 178, 165, 165, 173, 168, 155, 160, 164, 178, 175 Используя эти данные построить 95% доверительный интервал для разности среднего роста родителей и детей."
   ]
  },
  {
   "cell_type": "code",
   "execution_count": 123,
   "id": "fbb7f2f4",
   "metadata": {},
   "outputs": [],
   "source": [
    "A = pd.DataFrame([175, 167, 154, 174, 178, 148, 160, 167, 169, 170])\n",
    "B = pd.DataFrame([178, 165, 165, 173, 168, 155, 160, 164, 178, 175])"
   ]
  },
  {
   "cell_type": "code",
   "execution_count": 124,
   "id": "5a172b82",
   "metadata": {},
   "outputs": [],
   "source": [
    "a = 0.05"
   ]
  },
  {
   "cell_type": "code",
   "execution_count": 125,
   "id": "0642e9fe",
   "metadata": {},
   "outputs": [],
   "source": [
    "n_A = len(A)\n",
    "n_B = len(B)"
   ]
  },
  {
   "cell_type": "code",
   "execution_count": 126,
   "id": "fd295247",
   "metadata": {},
   "outputs": [
    {
     "data": {
      "text/plain": [
       "0    166.2\n",
       "dtype: float64"
      ]
     },
     "execution_count": 126,
     "metadata": {},
     "output_type": "execute_result"
    }
   ],
   "source": [
    "x_A = A.mean()\n",
    "x_A\n"
   ]
  },
  {
   "cell_type": "code",
   "execution_count": 127,
   "id": "38bbcfdb",
   "metadata": {},
   "outputs": [
    {
     "data": {
      "text/plain": [
       "0    168.1\n",
       "dtype: float64"
      ]
     },
     "execution_count": 127,
     "metadata": {},
     "output_type": "execute_result"
    }
   ],
   "source": [
    "x_B = B.mean()\n",
    "x_B"
   ]
  },
  {
   "cell_type": "code",
   "execution_count": 128,
   "id": "37b7d2a3",
   "metadata": {},
   "outputs": [
    {
     "data": {
      "text/plain": [
       "0   -1.9\n",
       "dtype: float64"
      ]
     },
     "execution_count": 128,
     "metadata": {},
     "output_type": "execute_result"
    }
   ],
   "source": [
    "delta = x_A - x_B\n",
    "delta"
   ]
  },
  {
   "cell_type": "code",
   "execution_count": 134,
   "id": "bf2a95b0",
   "metadata": {},
   "outputs": [
    {
     "data": {
      "text/plain": [
       "0    75.583333\n",
       "dtype: float64"
      ]
     },
     "execution_count": 134,
     "metadata": {},
     "output_type": "execute_result"
    }
   ],
   "source": [
    "D_A = np.var(A, ddof=1)\n",
    "D_B = np.var(B, ddof=1)\n",
    "D = (D_A + D_B) / 2\n",
    "D"
   ]
  },
  {
   "cell_type": "code",
   "execution_count": 130,
   "id": "eb90f2d2",
   "metadata": {},
   "outputs": [
    {
     "data": {
      "text/plain": [
       "0    3.888016\n",
       "dtype: float64"
      ]
     },
     "execution_count": 130,
     "metadata": {},
     "output_type": "execute_result"
    }
   ],
   "source": [
    "SE = (D/n_A + D/n_B)**0.5\n",
    "SE"
   ]
  },
  {
   "cell_type": "code",
   "execution_count": 131,
   "id": "3b34bb64",
   "metadata": {},
   "outputs": [
    {
     "data": {
      "text/plain": [
       "2.10092204024096"
      ]
     },
     "execution_count": 131,
     "metadata": {},
     "output_type": "execute_result"
    }
   ],
   "source": [
    "t = stats.t.ppf(0.975, (n_A + n_B - 2))\n",
    "t"
   ]
  },
  {
   "cell_type": "code",
   "execution_count": 132,
   "id": "e0212e08",
   "metadata": {},
   "outputs": [
    {
     "data": {
      "text/plain": [
       "0   -10.068418\n",
       "dtype: float64"
      ]
     },
     "execution_count": 132,
     "metadata": {},
     "output_type": "execute_result"
    }
   ],
   "source": [
    "L = delta - t*SE\n",
    "L"
   ]
  },
  {
   "cell_type": "code",
   "execution_count": 133,
   "id": "62e3b6a1",
   "metadata": {},
   "outputs": [
    {
     "data": {
      "text/plain": [
       "0    6.268418\n",
       "dtype: float64"
      ]
     },
     "execution_count": 133,
     "metadata": {},
     "output_type": "execute_result"
    }
   ],
   "source": [
    "U = delta + t*SE\n",
    "U"
   ]
  }
 ],
 "metadata": {
  "kernelspec": {
   "display_name": "Python 3 (ipykernel)",
   "language": "python",
   "name": "python3"
  },
  "language_info": {
   "codemirror_mode": {
    "name": "ipython",
    "version": 3
   },
   "file_extension": ".py",
   "mimetype": "text/x-python",
   "name": "python",
   "nbconvert_exporter": "python",
   "pygments_lexer": "ipython3",
   "version": "3.9.12"
  }
 },
 "nbformat": 4,
 "nbformat_minor": 5
}
