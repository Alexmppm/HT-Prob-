{
 "cells": [
  {
   "cell_type": "markdown",
   "id": "a38d16eb",
   "metadata": {},
   "source": [
    "## Home task 7"
   ]
  },
  {
   "cell_type": "markdown",
   "id": "f2a4cc02",
   "metadata": {},
   "source": [
    "Урок 7. Непараметрические тесты\n",
    "1-4 задачи решать с помощью функций, 5ю вручную\n",
    "Выбрать тест и проверить, есть  ли различия между выборками:\n",
    "\n",
    "1 )  Даны две  независимые выборки. Не соблюдается условие нормальности\n",
    "x1  380,420, 290\n",
    "y1 140,360,200,900\n",
    "\n",
    "Сделайте вывод по результатам, полученным с помощью функции\n",
    "\n",
    "2 ) Исследовалось влияние препарата на уровень давления пациентов. Сначала измерялось давление до приема препарата, потом через 10 минут и через 30 минут. Есть ли статистически значимые различия?\n",
    "\n",
    "1е измерение до приема препарата: 150, 160, 165, 145, 155\n",
    "2е измерение через 10 минут: 140, 155, 150,  130, 135\n",
    "3е измерение через 30 минут: 130, 130, 120, 130, 125\n",
    "\n",
    "3 ) Сравните 1 и 2 е измерения, предполагая, что 3го измерения через 30 минут не было.\n",
    "\n",
    "4) Даны 3 группы  учеников плавания.\n",
    "В 1 группе время на дистанцию 50 м составляют:\n",
    "56, 60, 62, 55, 71, 67, 59, 58, 64, 67\n",
    "\n",
    "Вторая группа : 57, 58, 69, 48, 72, 70, 68, 71, 50, 53\n",
    "Третья группа: 57, 67, 49, 48, 47, 55, 66, 51, 54\n",
    "\n",
    "5) Заявляется, что партия изготавливается со средним арифметическим 2,5 см. Проверить данную гипотезу, если известно, что размеры изделий подчинены нормальному закону распределения. Объем выборки 10, уровень статистической значимости 5%\n",
    "\n",
    "2.51, 2.35, 2.74, 2.56, 2.40, 2.36, 2.65, 2.7, 2.67, 2.34"
   ]
  },
  {
   "cell_type": "code",
   "execution_count": 133,
   "id": "ec93ea53",
   "metadata": {},
   "outputs": [],
   "source": [
    "import numpy as np\n",
    "import pandas as pd\n",
    "from statistics import NormalDist as nd\n",
    "import scipy.stats as stats"
   ]
  },
  {
   "cell_type": "markdown",
   "id": "0b8c5fb9",
   "metadata": {},
   "source": [
    "Формула для нахождения доверительного интервала в случае известной $\\sigma$ генеральной совокупности:\n",
    "\n",
    "$$ \\bar{x} \\pm z_{\\frac{\\alpha}{2}} * \\frac{\\sigma}{\\sqrt{n}}$$"
   ]
  },
  {
   "cell_type": "markdown",
   "id": "d621958f",
   "metadata": {},
   "source": [
    "### Задание 1"
   ]
  },
  {
   "cell_type": "markdown",
   "id": "2235c2e5",
   "metadata": {},
   "source": [
    "1 ) Даны две независимые выборки. Не соблюдается условие нормальности x1 380,420, 290 y1 140,360,200,900\n",
    "Сделайте вывод по результатам, полученным с помощью функции. Выбрать тест и проверить, есть ли различия между выборками:"
   ]
  },
  {
   "cell_type": "code",
   "execution_count": 134,
   "id": "01d0bea7",
   "metadata": {},
   "outputs": [],
   "source": [
    "x1 = pd.DataFrame([380,420, 290])\n",
    "y1 = pd.DataFrame([140,360,200,900])\n",
    "alpha = 0.05"
   ]
  },
  {
   "cell_type": "markdown",
   "id": "78563b58",
   "metadata": {},
   "source": [
    "Условия нормальности не соблюдены, n >= 3, выборки независимы. Применим критерий Манна-Уитни"
   ]
  },
  {
   "cell_type": "markdown",
   "id": "333f4322",
   "metadata": {},
   "source": [
    "H0: mu1 = mu2  \n",
    "H1: mu1 <> mu2"
   ]
  },
  {
   "cell_type": "code",
   "execution_count": 135,
   "id": "4bf1a6e9",
   "metadata": {},
   "outputs": [
    {
     "data": {
      "text/plain": [
       "MannwhitneyuResult(statistic=array([8.]), pvalue=array([0.62857143]))"
      ]
     },
     "execution_count": 135,
     "metadata": {},
     "output_type": "execute_result"
    }
   ],
   "source": [
    "stats.mannwhitneyu(x1, y1)"
   ]
  },
  {
   "cell_type": "markdown",
   "id": "6957a3ba",
   "metadata": {},
   "source": [
    "p-value > $\\alpha$ =>  H0 не отвергается"
   ]
  },
  {
   "cell_type": "markdown",
   "id": "c4af48f7",
   "metadata": {},
   "source": [
    "### Задание 2"
   ]
  },
  {
   "cell_type": "markdown",
   "id": "32d04226",
   "metadata": {},
   "source": [
    "2 ) Исследовалось влияние препарата на уровень давления пациентов. Сначала измерялось давление до приема препарата, потом через 10 минут и через 30 минут. Есть ли статистически значимые различия?\n",
    "\n",
    "1е измерение до приема препарата: 150, 160, 165, 145, 155 2е измерение через 10 минут: 140, 155, 150, 130, 135 3е измерение через 30 минут: 130, 130, 120, 130, 125"
   ]
  },
  {
   "cell_type": "markdown",
   "id": "9ea76362",
   "metadata": {},
   "source": [
    "Множественные сравнения, зависимые выборки => используем критерий Фридмана"
   ]
  },
  {
   "cell_type": "code",
   "execution_count": 136,
   "id": "f6054707",
   "metadata": {},
   "outputs": [],
   "source": [
    "x1 = np.array([150, 160, 165, 145, 155])\n",
    "x2 = np.array([140, 155, 150, 130, 135])\n",
    "x3 = np.array([130, 130, 120, 130, 125])\n",
    "alpha = 0.05"
   ]
  },
  {
   "cell_type": "markdown",
   "id": "b224035e",
   "metadata": {},
   "source": [
    "H0: mu_x1 = mu_x2 = mu_x3  \n",
    "H1: mu_x1 <> mu_x2 <> mu_x3"
   ]
  },
  {
   "cell_type": "code",
   "execution_count": 137,
   "id": "37e1b28e",
   "metadata": {},
   "outputs": [],
   "source": [
    "st, pv = stats.friedmanchisquare(x1, x2, x3)"
   ]
  },
  {
   "cell_type": "code",
   "execution_count": 138,
   "id": "ca8aa2d2",
   "metadata": {},
   "outputs": [
    {
     "data": {
      "text/plain": [
       "False"
      ]
     },
     "execution_count": 138,
     "metadata": {},
     "output_type": "execute_result"
    }
   ],
   "source": [
    "pv > alpha"
   ]
  },
  {
   "cell_type": "markdown",
   "id": "785bc163",
   "metadata": {},
   "source": [
    "p-value < $\\alpha$ =>  H0 отвергается"
   ]
  },
  {
   "cell_type": "markdown",
   "id": "ce63c948",
   "metadata": {},
   "source": [
    "### Задание 3"
   ]
  },
  {
   "cell_type": "markdown",
   "id": "fb4d0878",
   "metadata": {},
   "source": [
    "3 ) Сравните 1 и 2 е измерения, предполагая, что 3го измерения через 30 минут не было."
   ]
  },
  {
   "cell_type": "code",
   "execution_count": 139,
   "id": "2bfb1032",
   "metadata": {},
   "outputs": [],
   "source": [
    "st, pv = stats.wilcoxon(x1, x2)"
   ]
  },
  {
   "cell_type": "code",
   "execution_count": 140,
   "id": "29aaa557",
   "metadata": {},
   "outputs": [
    {
     "data": {
      "text/plain": [
       "0.0625"
      ]
     },
     "execution_count": 140,
     "metadata": {},
     "output_type": "execute_result"
    }
   ],
   "source": [
    "pv"
   ]
  },
  {
   "cell_type": "code",
   "execution_count": 141,
   "id": "ead29ae8",
   "metadata": {},
   "outputs": [
    {
     "data": {
      "text/plain": [
       "True"
      ]
     },
     "execution_count": 141,
     "metadata": {},
     "output_type": "execute_result"
    }
   ],
   "source": [
    "pv > alpha"
   ]
  },
  {
   "cell_type": "markdown",
   "id": "2c9b9f73",
   "metadata": {},
   "source": [
    "p-value > $\\alpha$ =>  H0 не отвергается"
   ]
  },
  {
   "cell_type": "markdown",
   "id": "a920212d",
   "metadata": {},
   "source": [
    "### Задание 4"
   ]
  },
  {
   "cell_type": "markdown",
   "id": "ee0f2594",
   "metadata": {},
   "source": [
    "4) Даны 3 группы учеников плавания. В 1 группе время на дистанцию 50 м составляют: 56, 60, 62, 55, 71, 67, 59, 58, 64, 67\n",
    "\n",
    "Вторая группа : 57, 58, 69, 48, 72, 70, 68, 71, 50, 53 Третья группа: 57, 67, 49, 48, 47, 55, 66, 51, 54"
   ]
  },
  {
   "cell_type": "code",
   "execution_count": 142,
   "id": "3cbdd0da",
   "metadata": {},
   "outputs": [],
   "source": [
    "x1 = np.array([56, 60, 62, 55, 71, 67, 59, 58, 64, 67])\n",
    "x2 = np.array([57, 58, 69, 48, 72, 70, 68, 71, 50, 53])\n",
    "x3 = np.array([57, 67, 49, 48, 47, 55, 66, 51, 54])\n",
    "alpha = 0.05"
   ]
  },
  {
   "cell_type": "markdown",
   "id": "f07e05a9",
   "metadata": {},
   "source": [
    "H0: mu_x1 = mu_x2 = mu_x3  \n",
    "H1: mu_x1 <> mu_x2 <> mu_x3"
   ]
  },
  {
   "cell_type": "markdown",
   "id": "4b304f41",
   "metadata": {},
   "source": [
    "Множественные сравнения, независимые выборки => используем критерий Крускала-Уоллиса"
   ]
  },
  {
   "cell_type": "code",
   "execution_count": 143,
   "id": "1fa5ab12",
   "metadata": {},
   "outputs": [],
   "source": [
    "st, pv = stats.kruskal(x1, x2, x3)"
   ]
  },
  {
   "cell_type": "code",
   "execution_count": 144,
   "id": "e8d7eb3a",
   "metadata": {},
   "outputs": [
    {
     "data": {
      "text/plain": [
       "0.0650380998590494"
      ]
     },
     "execution_count": 144,
     "metadata": {},
     "output_type": "execute_result"
    }
   ],
   "source": [
    "pv "
   ]
  },
  {
   "cell_type": "code",
   "execution_count": 145,
   "id": "6c457716",
   "metadata": {},
   "outputs": [
    {
     "data": {
      "text/plain": [
       "True"
      ]
     },
     "execution_count": 145,
     "metadata": {},
     "output_type": "execute_result"
    }
   ],
   "source": [
    "pv > alpha"
   ]
  },
  {
   "cell_type": "markdown",
   "id": "3a85bc74",
   "metadata": {},
   "source": [
    "p-value > $\\alpha$ =>  H0 не отвергается"
   ]
  },
  {
   "cell_type": "markdown",
   "id": "fb56389c",
   "metadata": {},
   "source": [
    "### Задание 5"
   ]
  },
  {
   "cell_type": "markdown",
   "id": "95e17cd7",
   "metadata": {},
   "source": [
    "5) Заявляется, что партия изготавливается со средним арифметическим 2,5 см. Проверить данную гипотезу, если известно, что размеры изделий подчинены нормальному закону распределения. Объем выборки 10, уровень статистической значимости 5%\n",
    "2.51, 2.35, 2.74, 2.56, 2.40, 2.36, 2.65, 2.7, 2.67, 2.34"
   ]
  },
  {
   "cell_type": "code",
   "execution_count": 146,
   "id": "9290bbbd",
   "metadata": {},
   "outputs": [],
   "source": [
    "x = np.array([2.51, 2.35, 2.74, 2.56, 2.40, 2.36, 2.65, 2.7, 2.67, 2.34])\n",
    "mu = 2.5\n",
    "n = len(x)\n",
    "alpha = 0.05"
   ]
  },
  {
   "cell_type": "markdown",
   "id": "b0d76a65",
   "metadata": {},
   "source": [
    "X~ N, диспесия ГС неизвестна => используем t-критерий Стьюдента"
   ]
  },
  {
   "cell_type": "markdown",
   "id": "7ad16b36",
   "metadata": {},
   "source": [
    "H0: mu = mu0  \n",
    "H1: mu <> mu0"
   ]
  },
  {
   "cell_type": "code",
   "execution_count": 147,
   "id": "e66da056",
   "metadata": {},
   "outputs": [
    {
     "data": {
      "text/plain": [
       "2.5279999999999996"
      ]
     },
     "execution_count": 147,
     "metadata": {},
     "output_type": "execute_result"
    }
   ],
   "source": [
    "x_mean = np.mean(x)\n",
    "x_mean"
   ]
  },
  {
   "cell_type": "code",
   "execution_count": 148,
   "id": "b3b68bc5",
   "metadata": {},
   "outputs": [],
   "source": [
    "s = np.sqrt(sum((x-x_mean)**2)/(n-1))"
   ]
  },
  {
   "cell_type": "code",
   "execution_count": 149,
   "id": "132fbc48",
   "metadata": {},
   "outputs": [
    {
     "data": {
      "text/plain": [
       "0.5630613661802959"
      ]
     },
     "execution_count": 149,
     "metadata": {},
     "output_type": "execute_result"
    }
   ],
   "source": [
    "t = (x_mean - mu) / (s / np.sqrt(n))\n",
    "t"
   ]
  },
  {
   "cell_type": "code",
   "execution_count": 150,
   "id": "1a8591f2",
   "metadata": {},
   "outputs": [],
   "source": [
    "t_table = stats.t.ppf((1-alpha), (n-1))"
   ]
  },
  {
   "cell_type": "code",
   "execution_count": 151,
   "id": "5292c353",
   "metadata": {},
   "outputs": [
    {
     "data": {
      "text/plain": [
       "1.8331129326536335"
      ]
     },
     "execution_count": 151,
     "metadata": {},
     "output_type": "execute_result"
    }
   ],
   "source": [
    "t_table"
   ]
  },
  {
   "cell_type": "code",
   "execution_count": 152,
   "id": "3f6a8602",
   "metadata": {},
   "outputs": [
    {
     "data": {
      "text/plain": [
       "True"
      ]
     },
     "execution_count": 152,
     "metadata": {},
     "output_type": "execute_result"
    }
   ],
   "source": [
    "t < t_table"
   ]
  },
  {
   "cell_type": "markdown",
   "id": "8a368a63",
   "metadata": {},
   "source": [
    "t < t$_{таб}$ =>  H0 не отвергается"
   ]
  },
  {
   "cell_type": "markdown",
   "id": "83b0a6c4",
   "metadata": {},
   "source": [
    "Проверка"
   ]
  },
  {
   "cell_type": "code",
   "execution_count": 153,
   "id": "2a16069a",
   "metadata": {},
   "outputs": [
    {
     "data": {
      "text/plain": [
       "Ttest_1sampResult(statistic=0.5630613661802959, pvalue=0.5871439993940628)"
      ]
     },
     "execution_count": 153,
     "metadata": {},
     "output_type": "execute_result"
    }
   ],
   "source": [
    "stats.ttest_1samp(x, mu)"
   ]
  },
  {
   "cell_type": "code",
   "execution_count": 154,
   "id": "f4c822f6",
   "metadata": {},
   "outputs": [
    {
     "data": {
      "text/plain": [
       "True"
      ]
     },
     "execution_count": 154,
     "metadata": {},
     "output_type": "execute_result"
    }
   ],
   "source": [
    "pv > alpha"
   ]
  }
 ],
 "metadata": {
  "kernelspec": {
   "display_name": "Python 3 (ipykernel)",
   "language": "python",
   "name": "python3"
  },
  "language_info": {
   "codemirror_mode": {
    "name": "ipython",
    "version": 3
   },
   "file_extension": ".py",
   "mimetype": "text/x-python",
   "name": "python",
   "nbconvert_exporter": "python",
   "pygments_lexer": "ipython3",
   "version": "3.9.12"
  }
 },
 "nbformat": 4,
 "nbformat_minor": 5
}
